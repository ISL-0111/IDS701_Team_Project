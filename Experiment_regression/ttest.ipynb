{
 "cells": [
  {
   "cell_type": "markdown",
   "metadata": {},
   "source": [
    "See Yirang Liu for questions"
   ]
  },
  {
   "cell_type": "code",
   "execution_count": 1,
   "metadata": {},
   "outputs": [],
   "source": [
    "# load packages\n",
    "import pandas as pd\n",
    "import numpy as np\n",
    "from scipy.stats import ttest_ind\n",
    "import matplotlib.pyplot as plt\n",
    "import seaborn as sns"
   ]
  },
  {
   "cell_type": "code",
   "execution_count": 2,
   "metadata": {},
   "outputs": [
    {
     "data": {
      "application/vnd.microsoft.datawrangler.viewer.v0+json": {
       "columns": [
        {
         "name": "index",
         "rawType": "int64",
         "type": "integer"
        },
        {
         "name": "courier_id",
         "rawType": "int64",
         "type": "integer"
        },
        {
         "name": "accept_date",
         "rawType": "object",
         "type": "string"
        },
        {
         "name": "region_id",
         "rawType": "int64",
         "type": "integer"
        },
        {
         "name": "task_count",
         "rawType": "int64",
         "type": "integer"
        },
        {
         "name": "avg_delivery_duration_min",
         "rawType": "float64",
         "type": "float"
        },
        {
         "name": "avg_distance_km",
         "rawType": "float64",
         "type": "float"
        },
        {
         "name": "delivery_hour_mode",
         "rawType": "int64",
         "type": "integer"
        },
        {
         "name": "high_load",
         "rawType": "int64",
         "type": "integer"
        },
        {
         "name": "task_count_c",
         "rawType": "int64",
         "type": "integer"
        },
        {
         "name": "hour_bin",
         "rawType": "object",
         "type": "string"
        },
        {
         "name": "duration_trimmed",
         "rawType": "float64",
         "type": "float"
        }
       ],
       "conversionMethod": "pd.DataFrame",
       "ref": "19a22e68-d8bc-4a93-9cbd-86c01b83a3ed",
       "rows": [
        [
         "21879",
         "3844",
         "2023-09-04",
         "45",
         "33",
         "345.3939393939394",
         "2.7353769033598807",
         "10",
         "1",
         "8",
         "Morning",
         "345.3939393939394"
        ],
        [
         "7965",
         "1553",
         "2023-05-16",
         "71",
         "17",
         "204.1176470588235",
         "2.5513034984575538",
         "8",
         "0",
         "-8",
         "Morning",
         "204.1176470588235"
        ]
       ],
       "shape": {
        "columns": 11,
        "rows": 2
       }
      },
      "text/html": [
       "<div>\n",
       "<style scoped>\n",
       "    .dataframe tbody tr th:only-of-type {\n",
       "        vertical-align: middle;\n",
       "    }\n",
       "\n",
       "    .dataframe tbody tr th {\n",
       "        vertical-align: top;\n",
       "    }\n",
       "\n",
       "    .dataframe thead th {\n",
       "        text-align: right;\n",
       "    }\n",
       "</style>\n",
       "<table border=\"1\" class=\"dataframe\">\n",
       "  <thead>\n",
       "    <tr style=\"text-align: right;\">\n",
       "      <th></th>\n",
       "      <th>courier_id</th>\n",
       "      <th>accept_date</th>\n",
       "      <th>region_id</th>\n",
       "      <th>task_count</th>\n",
       "      <th>avg_delivery_duration_min</th>\n",
       "      <th>avg_distance_km</th>\n",
       "      <th>delivery_hour_mode</th>\n",
       "      <th>high_load</th>\n",
       "      <th>task_count_c</th>\n",
       "      <th>hour_bin</th>\n",
       "      <th>duration_trimmed</th>\n",
       "    </tr>\n",
       "  </thead>\n",
       "  <tbody>\n",
       "    <tr>\n",
       "      <th>21879</th>\n",
       "      <td>3844</td>\n",
       "      <td>2023-09-04</td>\n",
       "      <td>45</td>\n",
       "      <td>33</td>\n",
       "      <td>345.393939</td>\n",
       "      <td>2.735377</td>\n",
       "      <td>10</td>\n",
       "      <td>1</td>\n",
       "      <td>8</td>\n",
       "      <td>Morning</td>\n",
       "      <td>345.393939</td>\n",
       "    </tr>\n",
       "    <tr>\n",
       "      <th>7965</th>\n",
       "      <td>1553</td>\n",
       "      <td>2023-05-16</td>\n",
       "      <td>71</td>\n",
       "      <td>17</td>\n",
       "      <td>204.117647</td>\n",
       "      <td>2.551303</td>\n",
       "      <td>8</td>\n",
       "      <td>0</td>\n",
       "      <td>-8</td>\n",
       "      <td>Morning</td>\n",
       "      <td>204.117647</td>\n",
       "    </tr>\n",
       "  </tbody>\n",
       "</table>\n",
       "</div>"
      ],
      "text/plain": [
       "       courier_id accept_date  region_id  task_count  \\\n",
       "21879        3844  2023-09-04         45          33   \n",
       "7965         1553  2023-05-16         71          17   \n",
       "\n",
       "       avg_delivery_duration_min  avg_distance_km  delivery_hour_mode  \\\n",
       "21879                 345.393939         2.735377                  10   \n",
       "7965                  204.117647         2.551303                   8   \n",
       "\n",
       "       high_load  task_count_c hour_bin  duration_trimmed  \n",
       "21879          1             8  Morning        345.393939  \n",
       "7965           0            -8  Morning        204.117647  "
      ]
     },
     "execution_count": 2,
     "metadata": {},
     "output_type": "execute_result"
    }
   ],
   "source": [
    "# Load the data\n",
    "df = pd.read_csv('https://github.com/ISL-0111/IDS701_Team_Project/raw/refs'\n",
    "'/heads/main/Experiment_regression/daily_agg_for_ttest_14regions.csv')\n",
    "df['high_load'] = df['high_load'].astype(int)\n",
    "df.sample(2)"
   ]
  },
  {
   "cell_type": "code",
   "execution_count": 3,
   "metadata": {},
   "outputs": [],
   "source": [
    "# Define target group\n",
    "group_0 = df[df['high_load'] == 0]\n",
    "group_1 = df[df['high_load'] == 1]\n",
    "\n",
    "# Get numeric columns excluding 'high_load'\n",
    "numeric_cols = df.select_dtypes(include='number').columns.drop(\n",
    "    'high_load')"
   ]
  },
  {
   "cell_type": "code",
   "execution_count": 4,
   "metadata": {},
   "outputs": [],
   "source": [
    "# Run t-tests\n",
    "results = []\n",
    "for col in numeric_cols:\n",
    "    g0 = group_0[col].dropna()\n",
    "    g1 = group_1[col].dropna()\n",
    "    if len(g0) < 2 or len(g1) < 2:\n",
    "        continue\n",
    "    t_stat, p_val = ttest_ind(g0, g1, equal_var=False)\n",
    "    results.append((col, t_stat, p_val))"
   ]
  },
  {
   "cell_type": "code",
   "execution_count": 5,
   "metadata": {},
   "outputs": [
    {
     "data": {
      "text/plain": [
       "[('courier_id', 0.18278077670575413, 0.8549713897341809),\n",
       " ('region_id', 17.259508720780925, 2.1314263908812327e-66),\n",
       " ('task_count', -265.2129898823922, 0.0),\n",
       " ('avg_delivery_duration_min', 31.501422733383666, 3.277248154263644e-213),\n",
       " ('avg_distance_km', -0.06494019601262223, 0.9482220891085815),\n",
       " ('delivery_hour_mode', 7.0009082467449675, 2.6015060853276485e-12),\n",
       " ('task_count_c', -265.2129898823921, 0.0),\n",
       " ('duration_trimmed', 31.552453872575324, 4.635389135659931e-214)]"
      ]
     },
     "execution_count": 5,
     "metadata": {},
     "output_type": "execute_result"
    }
   ],
   "source": [
    "results"
   ]
  },
  {
   "cell_type": "code",
   "execution_count": 6,
   "metadata": {},
   "outputs": [
    {
     "data": {
      "application/vnd.microsoft.datawrangler.viewer.v0+json": {
       "columns": [
        {
         "name": "index",
         "rawType": "int64",
         "type": "integer"
        },
        {
         "name": "Feature",
         "rawType": "object",
         "type": "string"
        },
        {
         "name": "T-statistic",
         "rawType": "float64",
         "type": "float"
        },
        {
         "name": "P-value",
         "rawType": "float64",
         "type": "float"
        },
        {
         "name": "-log10(P-value)",
         "rawType": "float64",
         "type": "float"
        }
       ],
       "conversionMethod": "pd.DataFrame",
       "ref": "bccffafb-ac95-48ba-8070-32736934628a",
       "rows": [
        [
         "2",
         "task_count",
         "-265.2129898823922",
         "0.0",
         "300.0"
        ],
        [
         "6",
         "task_count_c",
         "-265.2129898823921",
         "0.0",
         "300.0"
        ],
        [
         "7",
         "duration_trimmed",
         "31.552453872575324",
         "4.635389135659931e-214",
         "213.33391380145994"
        ],
        [
         "3",
         "avg_delivery_duration_min",
         "31.501422733383666",
         "3.277248154263644e-213",
         "212.4844906724574"
        ],
        [
         "1",
         "region_id",
         "17.259508720780925",
         "2.1314263908812327e-66",
         "65.67132966118064"
        ],
        [
         "5",
         "delivery_hour_mode",
         "7.0009082467449675",
         "2.6015060853276485e-12",
         "11.584775153884367"
        ],
        [
         "0",
         "courier_id",
         "0.18278077670575413",
         "0.8549713897341809",
         "0.06804841800687403"
        ],
        [
         "4",
         "avg_distance_km",
         "-0.06494019601262223",
         "0.9482220891085815",
         "0.023089931883305236"
        ]
       ],
       "shape": {
        "columns": 4,
        "rows": 8
       }
      },
      "text/html": [
       "<div>\n",
       "<style scoped>\n",
       "    .dataframe tbody tr th:only-of-type {\n",
       "        vertical-align: middle;\n",
       "    }\n",
       "\n",
       "    .dataframe tbody tr th {\n",
       "        vertical-align: top;\n",
       "    }\n",
       "\n",
       "    .dataframe thead th {\n",
       "        text-align: right;\n",
       "    }\n",
       "</style>\n",
       "<table border=\"1\" class=\"dataframe\">\n",
       "  <thead>\n",
       "    <tr style=\"text-align: right;\">\n",
       "      <th></th>\n",
       "      <th>Feature</th>\n",
       "      <th>T-statistic</th>\n",
       "      <th>P-value</th>\n",
       "      <th>-log10(P-value)</th>\n",
       "    </tr>\n",
       "  </thead>\n",
       "  <tbody>\n",
       "    <tr>\n",
       "      <th>2</th>\n",
       "      <td>task_count</td>\n",
       "      <td>-265.212990</td>\n",
       "      <td>0.000000e+00</td>\n",
       "      <td>300.000000</td>\n",
       "    </tr>\n",
       "    <tr>\n",
       "      <th>6</th>\n",
       "      <td>task_count_c</td>\n",
       "      <td>-265.212990</td>\n",
       "      <td>0.000000e+00</td>\n",
       "      <td>300.000000</td>\n",
       "    </tr>\n",
       "    <tr>\n",
       "      <th>7</th>\n",
       "      <td>duration_trimmed</td>\n",
       "      <td>31.552454</td>\n",
       "      <td>4.635389e-214</td>\n",
       "      <td>213.333914</td>\n",
       "    </tr>\n",
       "    <tr>\n",
       "      <th>3</th>\n",
       "      <td>avg_delivery_duration_min</td>\n",
       "      <td>31.501423</td>\n",
       "      <td>3.277248e-213</td>\n",
       "      <td>212.484491</td>\n",
       "    </tr>\n",
       "    <tr>\n",
       "      <th>1</th>\n",
       "      <td>region_id</td>\n",
       "      <td>17.259509</td>\n",
       "      <td>2.131426e-66</td>\n",
       "      <td>65.671330</td>\n",
       "    </tr>\n",
       "    <tr>\n",
       "      <th>5</th>\n",
       "      <td>delivery_hour_mode</td>\n",
       "      <td>7.000908</td>\n",
       "      <td>2.601506e-12</td>\n",
       "      <td>11.584775</td>\n",
       "    </tr>\n",
       "    <tr>\n",
       "      <th>0</th>\n",
       "      <td>courier_id</td>\n",
       "      <td>0.182781</td>\n",
       "      <td>8.549714e-01</td>\n",
       "      <td>0.068048</td>\n",
       "    </tr>\n",
       "    <tr>\n",
       "      <th>4</th>\n",
       "      <td>avg_distance_km</td>\n",
       "      <td>-0.064940</td>\n",
       "      <td>9.482221e-01</td>\n",
       "      <td>0.023090</td>\n",
       "    </tr>\n",
       "  </tbody>\n",
       "</table>\n",
       "</div>"
      ],
      "text/plain": [
       "                     Feature  T-statistic        P-value  -log10(P-value)\n",
       "2                 task_count  -265.212990   0.000000e+00       300.000000\n",
       "6               task_count_c  -265.212990   0.000000e+00       300.000000\n",
       "7           duration_trimmed    31.552454  4.635389e-214       213.333914\n",
       "3  avg_delivery_duration_min    31.501423  3.277248e-213       212.484491\n",
       "1                  region_id    17.259509   2.131426e-66        65.671330\n",
       "5         delivery_hour_mode     7.000908   2.601506e-12        11.584775\n",
       "0                 courier_id     0.182781   8.549714e-01         0.068048\n",
       "4            avg_distance_km    -0.064940   9.482221e-01         0.023090"
      ]
     },
     "execution_count": 6,
     "metadata": {},
     "output_type": "execute_result"
    }
   ],
   "source": [
    "# Create DataFrame\n",
    "results_df = pd.DataFrame(results, columns=[\n",
    "    'Feature', 'T-statistic', 'P-value'])\n",
    "\n",
    "# Avoid log10(0) by adding a really small number\n",
    "epsilon = 1e-300\n",
    "results_df['-log10(P-value)'] = -np.log10(results_df['P-value'] \n",
    "                                          + epsilon)\n",
    "\n",
    "# Sort for plot\n",
    "results_df.sort_values('-log10(P-value)', ascending=False, inplace=True)\n",
    "results_df"
   ]
  },
  {
   "cell_type": "code",
   "execution_count": 7,
   "metadata": {},
   "outputs": [
    {
     "data": {
      "image/png": "[encoded data removed]",
      "text/plain": [
       "<Figure size 1200x700 with 1 Axes>"
      ]
     },
     "metadata": {},
     "output_type": "display_data"
    }
   ],
   "source": [
    "# --- Plot ---\n",
    "plt.figure(figsize=(12, 7))\n",
    "ax = sns.barplot(\n",
    "    data=results_df,\n",
    "    x='-log10(P-value)',\n",
    "    y='Feature',\n",
    "    color='skyblue'\n",
    ")\n",
    "\n",
    "# Significance threshold line (p = 0.05)\n",
    "sig_threshold = -np.log10(0.05)\n",
    "plt.axvline(sig_threshold, color='red', linestyle='--', label='p = 0.05')\n",
    "\n",
    "# Annotate bars\n",
    "for i, row in results_df.iterrows():\n",
    "    if row['-log10(P-value)'] > sig_threshold:\n",
    "        ax.text(\n",
    "            row['-log10(P-value)'] + 0.05, i,\n",
    "            f\"p={row['P-value']:.3g}\",\n",
    "            va='center',\n",
    "            fontsize=9,\n",
    "            color='black'\n",
    "        )\n",
    "\n",
    "# Labels and legend\n",
    "plt.title('Feature Differences Between High-Load and Low-Load Days', \n",
    "          fontsize=14)\n",
    "plt.xlabel('-log10(p-value)\\n(Higher = More Statistically Significant)', \n",
    "           fontsize=12)\n",
    "plt.ylabel('Feature', fontsize=12)\n",
    "plt.legend(loc='lower right')\n",
    "\n",
    "# Caption\n",
    "plt.figtext(\n",
    "    0.5, -0.05,\n",
    "    \"Note: Bars right of red line are statistically significant at p < 0.05.\\n\"\n",
    "    \"Features shown compare high-load (1) vs. low-load (0) days using Welch's t-test.\",\n",
    "    wrap=True,\n",
    "    horizontalalignment='center',\n",
    "    fontsize=10\n",
    ")\n",
    "\n",
    "plt.tight_layout()\n",
    "plt.show()"
   ]
  },
  {
   "cell_type": "code",
   "execution_count": 8,
   "metadata": {},
   "outputs": [
    {
     "name": "stdout",
     "output_type": "stream",
     "text": [
      "\n",
      "Effect Size Summary:\n",
      "                     Feature  Low Load Mean  High Load Mean  % Difference  \\\n",
      "0                 task_count          11.98           36.88         207.9   \n",
      "1               task_count_c         -13.02           11.88         191.2   \n",
      "2           duration_trimmed         127.26           97.89         -23.1   \n",
      "3  avg_delivery_duration_min         128.79           97.89         -24.0   \n",
      "4                  region_id          50.79           44.98         -11.4   \n",
      "5         delivery_hour_mode          12.32           12.02          -2.4   \n",
      "6                 courier_id        2435.34         2432.31          -0.1   \n",
      "7            avg_distance_km           3.14            3.15           0.6   \n",
      "\n",
      "   P-value  \n",
      "0   0.0000  \n",
      "1   0.0000  \n",
      "2   0.0000  \n",
      "3   0.0000  \n",
      "4   0.0000  \n",
      "5   0.0000  \n",
      "6   0.8550  \n",
      "7   0.9482  \n"
     ]
    }
   ],
   "source": [
    "# --- Effect size summary ---\n",
    "summary = []\n",
    "for col in results_df['Feature']:\n",
    "    mean_0 = group_0[col].mean()\n",
    "    mean_1 = group_1[col].mean()\n",
    "    pct_diff = ((mean_1 - mean_0) / abs(mean_0)\n",
    "                ) * 100 if mean_0 != 0 else float('nan')\n",
    "    p_val = results_df.loc[results_df['Feature'] == col, 'P-value'\n",
    "                           ].values[0]\n",
    "    \n",
    "    summary.append({\n",
    "        'Feature': col,\n",
    "        'Low Load Mean': mean_0,\n",
    "        'High Load Mean': mean_1,\n",
    "        '% Difference': pct_diff,\n",
    "        'P-value': p_val\n",
    "    })\n",
    "\n",
    "summary_df = pd.DataFrame(summary)\n",
    "summary_df = summary_df.round({\n",
    "    'Low Load Mean': 2,\n",
    "    'High Load Mean': 2,\n",
    "    '% Difference': 1,\n",
    "    'P-value': 4\n",
    "})\n",
    "\n",
    "# Show the effect size summary\n",
    "print(\"\\nEffect Size Summary:\")\n",
    "print(summary_df.sort_values('P-value'))"
   ]
  },
  {
   "cell_type": "markdown",
   "metadata": {},
   "source": [
    "## Analysis Summary: Impact of High Load on Delivery Metrics\n",
    "\n",
    "A series of Welch’s t-tests were conducted to compare courier performance metrics between high-load and low-load days. The analysis revealed that several key features significantly differ when the system experiences heavy demand.\n",
    "\n",
    "Most notably, task count per courier surged by approximately 209% on high-load days, highlighting the substantial increase in operational pressure. Correspondingly, the variability in task counts (task_count_c) showed a similar dramatic rise of 180%, indicating greater inconsistency in workload distribution across couriers. Interestingly, despite the higher task volume, the average delivery duration decreased by nearly 22%, suggesting that couriers completed deliveries more quickly when the system was under strain.\n",
    "\n",
    "Other significant but less pronounced differences were observed in region_id (−8.4%) and delivery_hour_mode (−3.1%), implying slight shifts in where and when deliveries occurred during high-load periods. In contrast, average delivery distance and courier identity remained statistically unchanged, indicating that the operational adjustments primarily affected task volume and timing, rather than route lengths or workforce composition.\n",
    "\n",
    "These findings suggest that during high-load events, couriers adapt by accelerating deliveries without significantly increasing travel distance, perhaps through route optimization, batching, or prioritization of tasks.\n",
    "\n",
    "### Result Summary\n",
    "- Statistically Significant Features (p < 0.05):\n",
    "    - task_count (+209.5% on high-load days)\n",
    "    - avg_delivery_duration_min (−21.9%)\n",
    "    - task_count_c (+179.9%)\n",
    "    - duration_trimmed (−21.2%)\n",
    "    - region_id (−8.4%)\n",
    "    - delivery_hour_mode (−3.1%)\n",
    "- Not Significant:\n",
    "    - avg_distance_km (p = 0.5869)\n",
    "    - courier_id (p = 0.9709)\n",
    "- Strongest effects:\n",
    "    - Task volume (task_count) and completion variance (task_count_c) skyrocketed under high load.\n",
    "    - Deliveries became faster despite high volume (delivery time dropped ~22%).\n",
    "\n",
    "### Interpretation\n",
    "- Operational Pressure leads to:\n",
    "    - Higher task volume handled per courier.\n",
    "    - Shorter delivery durations — possibly due to operational optimizations or prioritization.\n",
    "- No major change in delivery distance or courier identity.\n",
    "- Practical meaning:\n",
    "    - During high-load days, couriers are much busier but not traveling significantly farther.\n",
    "    - Regions and hours slightly shift but not drastically.\n",
    "\n",
    "### Proposals for Implementation\n",
    "- Dynamic Task Allocation:\n",
    "    - Auto-adjust courier assignments based on predicted load to maintain quality.\n",
    "- Incentivize Efficient Behavior:\n",
    "    - Shorter delivery times under load suggest performance gains; consider bonus structures linked to efficiency during high load.\n",
    "- Regional Load Balancing:\n",
    "    - Minor but significant shifts in region usage; explore proactive rebalancing couriers by region ahead of high-load events.\n",
    "\n",
    "### Future Work\n",
    "- Predictive Modeling:\n",
    "    - Build a model to predict high-load days early using upstream signals (e.g., orders booked, customer activity).\n",
    "- Further Segmentation:\n",
    "    - Break down by hour_bin or weekday vs. weekend to find deeper patterns.\n",
    "- Explore Causality:\n",
    "    - Conduct controlled A/B experiments: can preemptively optimizing shifts lead to even better delivery times?\n",
    "- Investigate Courier Behavior:\n",
    "    - Are faster deliveries due to speed or task bundling strategies?"
   ]
  },
  {
   "cell_type": "markdown",
   "metadata": {},
   "source": []
  }
 ],
 "metadata": {
  "kernelspec": {
   "display_name": "base",
   "language": "python",
   "name": "python3"
  },
  "language_info": {
   "codemirror_mode": {
    "name": "ipython",
    "version": 3
   },
   "file_extension": ".py",
   "mimetype": "text/x-python",
   "name": "python",
   "nbconvert_exporter": "python",
   "pygments_lexer": "ipython3",
   "version": "3.12.5"
  }
 },
 "nbformat": 4,
 "nbformat_minor": 2
}
