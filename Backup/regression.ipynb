{
 "cells": [
  {
   "cell_type": "code",
   "execution_count": 21,
   "id": "cddeb13c",
   "metadata": {},
   "outputs": [],
   "source": [
    "import pandas as pd\n",
    "import statsmodels.formula.api as smf\n",
    "import statsmodels.api as sm\n",
    "import matplotlib.pyplot as plt\n",
    "from sklearn.preprocessing import StandardScaler\n",
    "from statsmodels.graphics.gofplots import qqplot\n",
    "from statsmodels.stats.diagnostic import het_breuschpagan\n",
    "import numpy as np"
   ]
  },
  {
   "cell_type": "code",
   "execution_count": 22,
   "id": "c30c3323",
   "metadata": {},
   "outputs": [
    {
     "data": {
      "application/vnd.microsoft.datawrangler.viewer.v0+json": {
       "columns": [
        {
         "name": "index",
         "rawType": "int64",
         "type": "integer"
        },
        {
         "name": "order_id",
         "rawType": "int64",
         "type": "integer"
        },
        {
         "name": "region_id",
         "rawType": "int64",
         "type": "integer"
        },
        {
         "name": "city",
         "rawType": "object",
         "type": "string"
        },
        {
         "name": "courier_id",
         "rawType": "int64",
         "type": "integer"
        },
        {
         "name": "lng",
         "rawType": "float64",
         "type": "float"
        },
        {
         "name": "lat",
         "rawType": "float64",
         "type": "float"
        },
        {
         "name": "aoi_id",
         "rawType": "int64",
         "type": "integer"
        },
        {
         "name": "aoi_type",
         "rawType": "int64",
         "type": "integer"
        },
        {
         "name": "accept_time",
         "rawType": "datetime64[ns]",
         "type": "datetime"
        },
        {
         "name": "accept_gps_time",
         "rawType": "datetime64[ns]",
         "type": "datetime"
        },
        {
         "name": "accept_gps_lng",
         "rawType": "float64",
         "type": "float"
        },
        {
         "name": "accept_gps_lat",
         "rawType": "float64",
         "type": "float"
        },
        {
         "name": "delivery_time",
         "rawType": "datetime64[ns]",
         "type": "datetime"
        },
        {
         "name": "delivery_gps_time",
         "rawType": "datetime64[ns]",
         "type": "datetime"
        },
        {
         "name": "delivery_gps_lng",
         "rawType": "float64",
         "type": "float"
        },
        {
         "name": "delivery_gps_lat",
         "rawType": "float64",
         "type": "float"
        },
        {
         "name": "ds",
         "rawType": "int64",
         "type": "integer"
        },
        {
         "name": "distance_km",
         "rawType": "float64",
         "type": "float"
        },
        {
         "name": "accept_date",
         "rawType": "object",
         "type": "unknown"
        },
        {
         "name": "delivery_duration",
         "rawType": "timedelta64[ns]",
         "type": "unknown"
        },
        {
         "name": "delivery_duration_minutes",
         "rawType": "float64",
         "type": "float"
        },
        {
         "name": "delivery_under_30",
         "rawType": "bool",
         "type": "boolean"
        }
       ],
       "conversionMethod": "pd.DataFrame",
       "ref": "4c340d9e-ab27-4c1c-bfea-2665a74c48c0",
       "rows": [
        [
         "863620",
         "179510",
         "52",
         "Shanghai",
         "3810",
         "121.31738",
         "30.95205",
         "52146",
         "14",
         "2023-07-31 20:58:00",
         "2023-07-31 20:58:00",
         "121.28747",
         "31.00081",
         "2023-07-31 20:58:00",
         "2023-07-31 20:58:00",
         "121.24878",
         "31.02114",
         "731",
         "4.327905454867268",
         "2023-07-31",
         "0 days 00:00:00",
         "0.0",
         "True"
        ],
        [
         "1299085",
         "3109317",
         "81",
         "Shanghai",
         "4773",
         "121.31737",
         "31.14195",
         "10456",
         "1",
         "2023-07-28 09:07:00",
         "2023-07-28 09:07:00",
         "121.30734",
         "31.1399",
         "2023-07-28 09:58:00",
         "2023-07-28 09:58:00",
         "121.31749",
         "31.14202",
         "728",
         "0.9960695170153842",
         "2023-07-28",
         "0 days 00:51:00",
         "51.0",
         "False"
        ],
        [
         "953838",
         "182139",
         "61",
         "Shanghai",
         "1834",
         "121.36322",
         "31.35753",
         "45254",
         "7",
         "2023-08-29 16:36:00",
         "2023-08-29 16:36:00",
         "121.37497",
         "31.36273",
         "2023-08-29 19:05:00",
         "2023-08-29 19:05:00",
         "121.36307",
         "31.35788",
         "829",
         "1.2534194644486365",
         "2023-08-29",
         "0 days 02:29:00",
         "149.0",
         "False"
        ],
        [
         "1081635",
         "1563800",
         "69",
         "Shanghai",
         "731",
         "121.62987",
         "31.20033",
         "8249",
         "1",
         "2023-09-12 08:41:00",
         "2023-09-12 08:41:00",
         "121.64048",
         "31.21594",
         "2023-09-12 12:44:00",
         "2023-09-12 12:44:00",
         "121.62949",
         "31.20004",
         "912",
         "2.050512755754013",
         "2023-09-12",
         "0 days 04:03:00",
         "243.0",
         "False"
        ],
        [
         "1026780",
         "864005",
         "66",
         "Shanghai",
         "2571",
         "121.37775",
         "31.11205",
         "11480",
         "1",
         "2023-08-23 11:55:00",
         "2023-08-23 11:55:00",
         "121.41751",
         "31.11244",
         "2023-08-23 13:52:00",
         "2023-08-23 13:52:00",
         "121.37789",
         "31.11212",
         "823",
         "3.779604623808152",
         "2023-08-23",
         "0 days 01:57:00",
         "117.0",
         "False"
        ]
       ],
       "shape": {
        "columns": 22,
        "rows": 5
       }
      },
      "text/html": [
       "<div>\n",
       "<style scoped>\n",
       "    .dataframe tbody tr th:only-of-type {\n",
       "        vertical-align: middle;\n",
       "    }\n",
       "\n",
       "    .dataframe tbody tr th {\n",
       "        vertical-align: top;\n",
       "    }\n",
       "\n",
       "    .dataframe thead th {\n",
       "        text-align: right;\n",
       "    }\n",
       "</style>\n",
       "<table border=\"1\" class=\"dataframe\">\n",
       "  <thead>\n",
       "    <tr style=\"text-align: right;\">\n",
       "      <th></th>\n",
       "      <th>order_id</th>\n",
       "      <th>region_id</th>\n",
       "      <th>city</th>\n",
       "      <th>courier_id</th>\n",
       "      <th>lng</th>\n",
       "      <th>lat</th>\n",
       "      <th>aoi_id</th>\n",
       "      <th>aoi_type</th>\n",
       "      <th>accept_time</th>\n",
       "      <th>accept_gps_time</th>\n",
       "      <th>...</th>\n",
       "      <th>delivery_time</th>\n",
       "      <th>delivery_gps_time</th>\n",
       "      <th>delivery_gps_lng</th>\n",
       "      <th>delivery_gps_lat</th>\n",
       "      <th>ds</th>\n",
       "      <th>distance_km</th>\n",
       "      <th>accept_date</th>\n",
       "      <th>delivery_duration</th>\n",
       "      <th>delivery_duration_minutes</th>\n",
       "      <th>delivery_under_30</th>\n",
       "    </tr>\n",
       "  </thead>\n",
       "  <tbody>\n",
       "    <tr>\n",
       "      <th>863620</th>\n",
       "      <td>179510</td>\n",
       "      <td>52</td>\n",
       "      <td>Shanghai</td>\n",
       "      <td>3810</td>\n",
       "      <td>121.31738</td>\n",
       "      <td>30.95205</td>\n",
       "      <td>52146</td>\n",
       "      <td>14</td>\n",
       "      <td>2023-07-31 20:58:00</td>\n",
       "      <td>2023-07-31 20:58:00</td>\n",
       "      <td>...</td>\n",
       "      <td>2023-07-31 20:58:00</td>\n",
       "      <td>2023-07-31 20:58:00</td>\n",
       "      <td>121.24878</td>\n",
       "      <td>31.02114</td>\n",
       "      <td>731</td>\n",
       "      <td>4.327905</td>\n",
       "      <td>2023-07-31</td>\n",
       "      <td>0 days 00:00:00</td>\n",
       "      <td>0.0</td>\n",
       "      <td>True</td>\n",
       "    </tr>\n",
       "    <tr>\n",
       "      <th>1299085</th>\n",
       "      <td>3109317</td>\n",
       "      <td>81</td>\n",
       "      <td>Shanghai</td>\n",
       "      <td>4773</td>\n",
       "      <td>121.31737</td>\n",
       "      <td>31.14195</td>\n",
       "      <td>10456</td>\n",
       "      <td>1</td>\n",
       "      <td>2023-07-28 09:07:00</td>\n",
       "      <td>2023-07-28 09:07:00</td>\n",
       "      <td>...</td>\n",
       "      <td>2023-07-28 09:58:00</td>\n",
       "      <td>2023-07-28 09:58:00</td>\n",
       "      <td>121.31749</td>\n",
       "      <td>31.14202</td>\n",
       "      <td>728</td>\n",
       "      <td>0.996070</td>\n",
       "      <td>2023-07-28</td>\n",
       "      <td>0 days 00:51:00</td>\n",
       "      <td>51.0</td>\n",
       "      <td>False</td>\n",
       "    </tr>\n",
       "    <tr>\n",
       "      <th>953838</th>\n",
       "      <td>182139</td>\n",
       "      <td>61</td>\n",
       "      <td>Shanghai</td>\n",
       "      <td>1834</td>\n",
       "      <td>121.36322</td>\n",
       "      <td>31.35753</td>\n",
       "      <td>45254</td>\n",
       "      <td>7</td>\n",
       "      <td>2023-08-29 16:36:00</td>\n",
       "      <td>2023-08-29 16:36:00</td>\n",
       "      <td>...</td>\n",
       "      <td>2023-08-29 19:05:00</td>\n",
       "      <td>2023-08-29 19:05:00</td>\n",
       "      <td>121.36307</td>\n",
       "      <td>31.35788</td>\n",
       "      <td>829</td>\n",
       "      <td>1.253419</td>\n",
       "      <td>2023-08-29</td>\n",
       "      <td>0 days 02:29:00</td>\n",
       "      <td>149.0</td>\n",
       "      <td>False</td>\n",
       "    </tr>\n",
       "    <tr>\n",
       "      <th>1081635</th>\n",
       "      <td>1563800</td>\n",
       "      <td>69</td>\n",
       "      <td>Shanghai</td>\n",
       "      <td>731</td>\n",
       "      <td>121.62987</td>\n",
       "      <td>31.20033</td>\n",
       "      <td>8249</td>\n",
       "      <td>1</td>\n",
       "      <td>2023-09-12 08:41:00</td>\n",
       "      <td>2023-09-12 08:41:00</td>\n",
       "      <td>...</td>\n",
       "      <td>2023-09-12 12:44:00</td>\n",
       "      <td>2023-09-12 12:44:00</td>\n",
       "      <td>121.62949</td>\n",
       "      <td>31.20004</td>\n",
       "      <td>912</td>\n",
       "      <td>2.050513</td>\n",
       "      <td>2023-09-12</td>\n",
       "      <td>0 days 04:03:00</td>\n",
       "      <td>243.0</td>\n",
       "      <td>False</td>\n",
       "    </tr>\n",
       "    <tr>\n",
       "      <th>1026780</th>\n",
       "      <td>864005</td>\n",
       "      <td>66</td>\n",
       "      <td>Shanghai</td>\n",
       "      <td>2571</td>\n",
       "      <td>121.37775</td>\n",
       "      <td>31.11205</td>\n",
       "      <td>11480</td>\n",
       "      <td>1</td>\n",
       "      <td>2023-08-23 11:55:00</td>\n",
       "      <td>2023-08-23 11:55:00</td>\n",
       "      <td>...</td>\n",
       "      <td>2023-08-23 13:52:00</td>\n",
       "      <td>2023-08-23 13:52:00</td>\n",
       "      <td>121.37789</td>\n",
       "      <td>31.11212</td>\n",
       "      <td>823</td>\n",
       "      <td>3.779605</td>\n",
       "      <td>2023-08-23</td>\n",
       "      <td>0 days 01:57:00</td>\n",
       "      <td>117.0</td>\n",
       "      <td>False</td>\n",
       "    </tr>\n",
       "  </tbody>\n",
       "</table>\n",
       "<p>5 rows × 22 columns</p>\n",
       "</div>"
      ],
      "text/plain": [
       "         order_id  region_id      city  courier_id        lng       lat  \\\n",
       "863620     179510         52  Shanghai        3810  121.31738  30.95205   \n",
       "1299085   3109317         81  Shanghai        4773  121.31737  31.14195   \n",
       "953838     182139         61  Shanghai        1834  121.36322  31.35753   \n",
       "1081635   1563800         69  Shanghai         731  121.62987  31.20033   \n",
       "1026780    864005         66  Shanghai        2571  121.37775  31.11205   \n",
       "\n",
       "         aoi_id  aoi_type         accept_time     accept_gps_time  ...  \\\n",
       "863620    52146        14 2023-07-31 20:58:00 2023-07-31 20:58:00  ...   \n",
       "1299085   10456         1 2023-07-28 09:07:00 2023-07-28 09:07:00  ...   \n",
       "953838    45254         7 2023-08-29 16:36:00 2023-08-29 16:36:00  ...   \n",
       "1081635    8249         1 2023-09-12 08:41:00 2023-09-12 08:41:00  ...   \n",
       "1026780   11480         1 2023-08-23 11:55:00 2023-08-23 11:55:00  ...   \n",
       "\n",
       "              delivery_time   delivery_gps_time delivery_gps_lng  \\\n",
       "863620  2023-07-31 20:58:00 2023-07-31 20:58:00        121.24878   \n",
       "1299085 2023-07-28 09:58:00 2023-07-28 09:58:00        121.31749   \n",
       "953838  2023-08-29 19:05:00 2023-08-29 19:05:00        121.36307   \n",
       "1081635 2023-09-12 12:44:00 2023-09-12 12:44:00        121.62949   \n",
       "1026780 2023-08-23 13:52:00 2023-08-23 13:52:00        121.37789   \n",
       "\n",
       "        delivery_gps_lat   ds  distance_km  accept_date  delivery_duration  \\\n",
       "863620          31.02114  731     4.327905   2023-07-31    0 days 00:00:00   \n",
       "1299085         31.14202  728     0.996070   2023-07-28    0 days 00:51:00   \n",
       "953838          31.35788  829     1.253419   2023-08-29    0 days 02:29:00   \n",
       "1081635         31.20004  912     2.050513   2023-09-12    0 days 04:03:00   \n",
       "1026780         31.11212  823     3.779605   2023-08-23    0 days 01:57:00   \n",
       "\n",
       "        delivery_duration_minutes delivery_under_30  \n",
       "863620                        0.0              True  \n",
       "1299085                      51.0             False  \n",
       "953838                      149.0             False  \n",
       "1081635                     243.0             False  \n",
       "1026780                     117.0             False  \n",
       "\n",
       "[5 rows x 22 columns]"
      ]
     },
     "execution_count": 22,
     "metadata": {},
     "output_type": "execute_result"
    }
   ],
   "source": [
    "# load data\n",
    "df = pd.read_parquet(\n",
    "    r\"https://github.com/ISL-0111/IDS701_Team_Project/raw/refs/heads/main/Data/cleaned_data.parquet\"\n",
    ")\n",
    "df.sample(5)"
   ]
  },
  {
   "cell_type": "code",
   "execution_count": 23,
   "id": "f6832b41",
   "metadata": {},
   "outputs": [],
   "source": [
    "# prepare dataset (convert time format)\n",
    "df[\"accept_hour\"] = df[\"accept_time\"].dt.hour"
   ]
  },
  {
   "cell_type": "code",
   "execution_count": 24,
   "id": "3108a3c1",
   "metadata": {},
   "outputs": [
    {
     "name": "stdout",
     "output_type": "stream",
     "text": [
      "(1469084, 23)\n"
     ]
    },
    {
     "data": {
      "application/vnd.microsoft.datawrangler.viewer.v0+json": {
       "columns": [
        {
         "name": "index",
         "rawType": "int64",
         "type": "integer"
        },
        {
         "name": "order_id",
         "rawType": "int64",
         "type": "integer"
        },
        {
         "name": "region_id",
         "rawType": "int64",
         "type": "integer"
        },
        {
         "name": "city",
         "rawType": "object",
         "type": "string"
        },
        {
         "name": "courier_id",
         "rawType": "int64",
         "type": "integer"
        },
        {
         "name": "lng",
         "rawType": "float64",
         "type": "float"
        },
        {
         "name": "lat",
         "rawType": "float64",
         "type": "float"
        },
        {
         "name": "aoi_id",
         "rawType": "int64",
         "type": "integer"
        },
        {
         "name": "aoi_type",
         "rawType": "int64",
         "type": "integer"
        },
        {
         "name": "accept_time",
         "rawType": "datetime64[ns]",
         "type": "datetime"
        },
        {
         "name": "accept_gps_time",
         "rawType": "datetime64[ns]",
         "type": "datetime"
        },
        {
         "name": "accept_gps_lng",
         "rawType": "float64",
         "type": "float"
        },
        {
         "name": "accept_gps_lat",
         "rawType": "float64",
         "type": "float"
        },
        {
         "name": "delivery_time",
         "rawType": "datetime64[ns]",
         "type": "datetime"
        },
        {
         "name": "delivery_gps_time",
         "rawType": "datetime64[ns]",
         "type": "datetime"
        },
        {
         "name": "delivery_gps_lng",
         "rawType": "float64",
         "type": "float"
        },
        {
         "name": "delivery_gps_lat",
         "rawType": "float64",
         "type": "float"
        },
        {
         "name": "ds",
         "rawType": "int64",
         "type": "integer"
        },
        {
         "name": "distance_km",
         "rawType": "float64",
         "type": "float"
        },
        {
         "name": "accept_date",
         "rawType": "object",
         "type": "unknown"
        },
        {
         "name": "delivery_duration",
         "rawType": "timedelta64[ns]",
         "type": "unknown"
        },
        {
         "name": "delivery_duration_minutes",
         "rawType": "float64",
         "type": "float"
        },
        {
         "name": "delivery_under_30",
         "rawType": "bool",
         "type": "boolean"
        },
        {
         "name": "accept_hour",
         "rawType": "int32",
         "type": "integer"
        }
       ],
       "conversionMethod": "pd.DataFrame",
       "ref": "77994ef4-5e52-4b44-b836-e357f1dd0ff6",
       "rows": [
        [
         "16634",
         "669537",
         "1",
         "Shanghai",
         "74",
         "121.52663",
         "31.12594",
         "36297",
         "9",
         "2023-06-12 17:54:00",
         "2023-06-12 17:54:00",
         "121.52277",
         "31.10593",
         "2023-06-12 18:44:00",
         "2023-06-12 18:44:00",
         "121.52765",
         "31.12539",
         "612",
         "2.207203309262027",
         "2023-06-12",
         "0 days 00:50:00",
         "50.0",
         "False",
         "17"
        ],
        [
         "11040",
         "2644496",
         "1",
         "Shanghai",
         "296",
         "121.53516",
         "31.06813",
         "25017",
         "14",
         "2023-08-12 10:14:00",
         "2023-08-12 10:14:00",
         "121.52283",
         "31.10604",
         "2023-08-12 11:36:00",
         "2023-08-12 11:36:00",
         "121.53638",
         "31.06836",
         "812",
         "4.373110038432998",
         "2023-08-12",
         "0 days 01:22:00",
         "82.0",
         "False",
         "10"
        ],
        [
         "695774",
         "1692208",
         "44",
         "Shanghai",
         "601",
         "121.53018",
         "31.24292",
         "25141",
         "1",
         "2023-10-08 16:17:00",
         "2023-10-08 16:17:00",
         "121.54615",
         "31.24296",
         "2023-10-08 18:07:00",
         "2023-10-08 18:07:00",
         "121.52991",
         "31.2432",
         "1008",
         "1.5472698307832748",
         "2023-10-08",
         "0 days 01:50:00",
         "110.0",
         "False",
         "16"
        ],
        [
         "516751",
         "3929517",
         "33",
         "Shanghai",
         "3091",
         "121.35237",
         "31.28377",
         "39684",
         "1",
         "2023-10-27 09:23:00",
         "2023-10-27 09:23:00",
         "121.35105",
         "31.26923",
         "2023-10-27 10:27:00",
         "2023-10-27 10:27:00",
         "121.35952",
         "31.27196",
         "1027",
         "0.861549534851899",
         "2023-10-27",
         "0 days 01:04:00",
         "64.0",
         "False",
         "9"
        ],
        [
         "500460",
         "3362340",
         "32",
         "Shanghai",
         "3527",
         "121.45439",
         "31.28928",
         "59630",
         "1",
         "2023-09-28 15:30:00",
         "2023-09-28 15:30:00",
         "121.44751",
         "31.28419",
         "2023-09-28 17:30:00",
         "2023-09-28 17:30:00",
         "121.45439",
         "31.28915",
         "928",
         "0.8553249969277397",
         "2023-09-28",
         "0 days 02:00:00",
         "120.0",
         "False",
         "15"
        ]
       ],
       "shape": {
        "columns": 23,
        "rows": 5
       }
      },
      "text/html": [
       "<div>\n",
       "<style scoped>\n",
       "    .dataframe tbody tr th:only-of-type {\n",
       "        vertical-align: middle;\n",
       "    }\n",
       "\n",
       "    .dataframe tbody tr th {\n",
       "        vertical-align: top;\n",
       "    }\n",
       "\n",
       "    .dataframe thead th {\n",
       "        text-align: right;\n",
       "    }\n",
       "</style>\n",
       "<table border=\"1\" class=\"dataframe\">\n",
       "  <thead>\n",
       "    <tr style=\"text-align: right;\">\n",
       "      <th></th>\n",
       "      <th>order_id</th>\n",
       "      <th>region_id</th>\n",
       "      <th>city</th>\n",
       "      <th>courier_id</th>\n",
       "      <th>lng</th>\n",
       "      <th>lat</th>\n",
       "      <th>aoi_id</th>\n",
       "      <th>aoi_type</th>\n",
       "      <th>accept_time</th>\n",
       "      <th>accept_gps_time</th>\n",
       "      <th>...</th>\n",
       "      <th>delivery_gps_time</th>\n",
       "      <th>delivery_gps_lng</th>\n",
       "      <th>delivery_gps_lat</th>\n",
       "      <th>ds</th>\n",
       "      <th>distance_km</th>\n",
       "      <th>accept_date</th>\n",
       "      <th>delivery_duration</th>\n",
       "      <th>delivery_duration_minutes</th>\n",
       "      <th>delivery_under_30</th>\n",
       "      <th>accept_hour</th>\n",
       "    </tr>\n",
       "  </thead>\n",
       "  <tbody>\n",
       "    <tr>\n",
       "      <th>16634</th>\n",
       "      <td>669537</td>\n",
       "      <td>1</td>\n",
       "      <td>Shanghai</td>\n",
       "      <td>74</td>\n",
       "      <td>121.52663</td>\n",
       "      <td>31.12594</td>\n",
       "      <td>36297</td>\n",
       "      <td>9</td>\n",
       "      <td>2023-06-12 17:54:00</td>\n",
       "      <td>2023-06-12 17:54:00</td>\n",
       "      <td>...</td>\n",
       "      <td>2023-06-12 18:44:00</td>\n",
       "      <td>121.52765</td>\n",
       "      <td>31.12539</td>\n",
       "      <td>612</td>\n",
       "      <td>2.207203</td>\n",
       "      <td>2023-06-12</td>\n",
       "      <td>0 days 00:50:00</td>\n",
       "      <td>50.0</td>\n",
       "      <td>False</td>\n",
       "      <td>17</td>\n",
       "    </tr>\n",
       "    <tr>\n",
       "      <th>11040</th>\n",
       "      <td>2644496</td>\n",
       "      <td>1</td>\n",
       "      <td>Shanghai</td>\n",
       "      <td>296</td>\n",
       "      <td>121.53516</td>\n",
       "      <td>31.06813</td>\n",
       "      <td>25017</td>\n",
       "      <td>14</td>\n",
       "      <td>2023-08-12 10:14:00</td>\n",
       "      <td>2023-08-12 10:14:00</td>\n",
       "      <td>...</td>\n",
       "      <td>2023-08-12 11:36:00</td>\n",
       "      <td>121.53638</td>\n",
       "      <td>31.06836</td>\n",
       "      <td>812</td>\n",
       "      <td>4.373110</td>\n",
       "      <td>2023-08-12</td>\n",
       "      <td>0 days 01:22:00</td>\n",
       "      <td>82.0</td>\n",
       "      <td>False</td>\n",
       "      <td>10</td>\n",
       "    </tr>\n",
       "    <tr>\n",
       "      <th>695774</th>\n",
       "      <td>1692208</td>\n",
       "      <td>44</td>\n",
       "      <td>Shanghai</td>\n",
       "      <td>601</td>\n",
       "      <td>121.53018</td>\n",
       "      <td>31.24292</td>\n",
       "      <td>25141</td>\n",
       "      <td>1</td>\n",
       "      <td>2023-10-08 16:17:00</td>\n",
       "      <td>2023-10-08 16:17:00</td>\n",
       "      <td>...</td>\n",
       "      <td>2023-10-08 18:07:00</td>\n",
       "      <td>121.52991</td>\n",
       "      <td>31.24320</td>\n",
       "      <td>1008</td>\n",
       "      <td>1.547270</td>\n",
       "      <td>2023-10-08</td>\n",
       "      <td>0 days 01:50:00</td>\n",
       "      <td>110.0</td>\n",
       "      <td>False</td>\n",
       "      <td>16</td>\n",
       "    </tr>\n",
       "    <tr>\n",
       "      <th>516751</th>\n",
       "      <td>3929517</td>\n",
       "      <td>33</td>\n",
       "      <td>Shanghai</td>\n",
       "      <td>3091</td>\n",
       "      <td>121.35237</td>\n",
       "      <td>31.28377</td>\n",
       "      <td>39684</td>\n",
       "      <td>1</td>\n",
       "      <td>2023-10-27 09:23:00</td>\n",
       "      <td>2023-10-27 09:23:00</td>\n",
       "      <td>...</td>\n",
       "      <td>2023-10-27 10:27:00</td>\n",
       "      <td>121.35952</td>\n",
       "      <td>31.27196</td>\n",
       "      <td>1027</td>\n",
       "      <td>0.861550</td>\n",
       "      <td>2023-10-27</td>\n",
       "      <td>0 days 01:04:00</td>\n",
       "      <td>64.0</td>\n",
       "      <td>False</td>\n",
       "      <td>9</td>\n",
       "    </tr>\n",
       "    <tr>\n",
       "      <th>500460</th>\n",
       "      <td>3362340</td>\n",
       "      <td>32</td>\n",
       "      <td>Shanghai</td>\n",
       "      <td>3527</td>\n",
       "      <td>121.45439</td>\n",
       "      <td>31.28928</td>\n",
       "      <td>59630</td>\n",
       "      <td>1</td>\n",
       "      <td>2023-09-28 15:30:00</td>\n",
       "      <td>2023-09-28 15:30:00</td>\n",
       "      <td>...</td>\n",
       "      <td>2023-09-28 17:30:00</td>\n",
       "      <td>121.45439</td>\n",
       "      <td>31.28915</td>\n",
       "      <td>928</td>\n",
       "      <td>0.855325</td>\n",
       "      <td>2023-09-28</td>\n",
       "      <td>0 days 02:00:00</td>\n",
       "      <td>120.0</td>\n",
       "      <td>False</td>\n",
       "      <td>15</td>\n",
       "    </tr>\n",
       "  </tbody>\n",
       "</table>\n",
       "<p>5 rows × 23 columns</p>\n",
       "</div>"
      ],
      "text/plain": [
       "        order_id  region_id      city  courier_id        lng       lat  \\\n",
       "16634     669537          1  Shanghai          74  121.52663  31.12594   \n",
       "11040    2644496          1  Shanghai         296  121.53516  31.06813   \n",
       "695774   1692208         44  Shanghai         601  121.53018  31.24292   \n",
       "516751   3929517         33  Shanghai        3091  121.35237  31.28377   \n",
       "500460   3362340         32  Shanghai        3527  121.45439  31.28928   \n",
       "\n",
       "        aoi_id  aoi_type         accept_time     accept_gps_time  ...  \\\n",
       "16634    36297         9 2023-06-12 17:54:00 2023-06-12 17:54:00  ...   \n",
       "11040    25017        14 2023-08-12 10:14:00 2023-08-12 10:14:00  ...   \n",
       "695774   25141         1 2023-10-08 16:17:00 2023-10-08 16:17:00  ...   \n",
       "516751   39684         1 2023-10-27 09:23:00 2023-10-27 09:23:00  ...   \n",
       "500460   59630         1 2023-09-28 15:30:00 2023-09-28 15:30:00  ...   \n",
       "\n",
       "         delivery_gps_time  delivery_gps_lng delivery_gps_lat    ds  \\\n",
       "16634  2023-06-12 18:44:00         121.52765         31.12539   612   \n",
       "11040  2023-08-12 11:36:00         121.53638         31.06836   812   \n",
       "695774 2023-10-08 18:07:00         121.52991         31.24320  1008   \n",
       "516751 2023-10-27 10:27:00         121.35952         31.27196  1027   \n",
       "500460 2023-09-28 17:30:00         121.45439         31.28915   928   \n",
       "\n",
       "        distance_km  accept_date  delivery_duration  \\\n",
       "16634      2.207203   2023-06-12    0 days 00:50:00   \n",
       "11040      4.373110   2023-08-12    0 days 01:22:00   \n",
       "695774     1.547270   2023-10-08    0 days 01:50:00   \n",
       "516751     0.861550   2023-10-27    0 days 01:04:00   \n",
       "500460     0.855325   2023-09-28    0 days 02:00:00   \n",
       "\n",
       "        delivery_duration_minutes delivery_under_30 accept_hour  \n",
       "16634                        50.0             False          17  \n",
       "11040                        82.0             False          10  \n",
       "695774                      110.0             False          16  \n",
       "516751                       64.0             False           9  \n",
       "500460                      120.0             False          15  \n",
       "\n",
       "[5 rows x 23 columns]"
      ]
     },
     "execution_count": 24,
     "metadata": {},
     "output_type": "execute_result"
    }
   ],
   "source": [
    "# Filter Data for Top Regions\n",
    "n_regions_under_consideration = 14\n",
    "top_regions = df[\"region_id\"].value_counts().head(n_regions_under_consideration).index\n",
    "df_filtered = df[df[\"region_id\"].isin(top_regions)]\n",
    "\n",
    "# Keep only necessary columns\n",
    "df_filtered = df_filtered[\n",
    "    [\n",
    "        \"order_id\",\n",
    "        \"region_id\",\n",
    "        \"courier_id\",\n",
    "        \"delivery_duration_minutes\",\n",
    "        \"accept_date\",\n",
    "        \"distance_km\",\n",
    "        \"accept_hour\",\n",
    "    ]\n",
    "]\n",
    "\n",
    "print(df.shape)\n",
    "df.sample(5)"
   ]
  },
  {
   "cell_type": "code",
   "execution_count": 25,
   "id": "a5355d3a",
   "metadata": {},
   "outputs": [
    {
     "data": {
      "application/vnd.microsoft.datawrangler.viewer.v0+json": {
       "columns": [
        {
         "name": "index",
         "rawType": "int64",
         "type": "integer"
        },
        {
         "name": "courier_id",
         "rawType": "int64",
         "type": "integer"
        },
        {
         "name": "accept_date",
         "rawType": "object",
         "type": "unknown"
        },
        {
         "name": "task_count",
         "rawType": "int64",
         "type": "integer"
        },
        {
         "name": "avg_delivery_duration_min",
         "rawType": "float64",
         "type": "float"
        },
        {
         "name": "avg_distance_km",
         "rawType": "float64",
         "type": "float"
        },
        {
         "name": "delivery_hour_mode",
         "rawType": "int32",
         "type": "integer"
        }
       ],
       "conversionMethod": "pd.DataFrame",
       "ref": "d83218d6-cbee-403d-b433-d05363f32126",
       "rows": [
        [
         "14357",
         "2512",
         "2023-10-25",
         "41",
         "254.0487804878049",
         "2.889550684044694",
         "9"
        ],
        [
         "18012",
         "3123",
         "2023-09-17",
         "22",
         "73.13636363636364",
         "2.0602037952540004",
         "8"
        ],
        [
         "17367",
         "3031",
         "2023-06-13",
         "12",
         "69.25",
         "0.4397375765304771",
         "9"
        ],
        [
         "12936",
         "2338",
         "2023-09-01",
         "52",
         "149.94230769230768",
         "1.7264577158018635",
         "16"
        ],
        [
         "6849",
         "1380",
         "2023-10-22",
         "19",
         "83.63157894736842",
         "0.42944010137782057",
         "9"
        ]
       ],
       "shape": {
        "columns": 6,
        "rows": 5
       }
      },
      "text/html": [
       "<div>\n",
       "<style scoped>\n",
       "    .dataframe tbody tr th:only-of-type {\n",
       "        vertical-align: middle;\n",
       "    }\n",
       "\n",
       "    .dataframe tbody tr th {\n",
       "        vertical-align: top;\n",
       "    }\n",
       "\n",
       "    .dataframe thead th {\n",
       "        text-align: right;\n",
       "    }\n",
       "</style>\n",
       "<table border=\"1\" class=\"dataframe\">\n",
       "  <thead>\n",
       "    <tr style=\"text-align: right;\">\n",
       "      <th></th>\n",
       "      <th>courier_id</th>\n",
       "      <th>accept_date</th>\n",
       "      <th>task_count</th>\n",
       "      <th>avg_delivery_duration_min</th>\n",
       "      <th>avg_distance_km</th>\n",
       "      <th>delivery_hour_mode</th>\n",
       "    </tr>\n",
       "  </thead>\n",
       "  <tbody>\n",
       "    <tr>\n",
       "      <th>14357</th>\n",
       "      <td>2512</td>\n",
       "      <td>2023-10-25</td>\n",
       "      <td>41</td>\n",
       "      <td>254.048780</td>\n",
       "      <td>2.889551</td>\n",
       "      <td>9</td>\n",
       "    </tr>\n",
       "    <tr>\n",
       "      <th>18012</th>\n",
       "      <td>3123</td>\n",
       "      <td>2023-09-17</td>\n",
       "      <td>22</td>\n",
       "      <td>73.136364</td>\n",
       "      <td>2.060204</td>\n",
       "      <td>8</td>\n",
       "    </tr>\n",
       "    <tr>\n",
       "      <th>17367</th>\n",
       "      <td>3031</td>\n",
       "      <td>2023-06-13</td>\n",
       "      <td>12</td>\n",
       "      <td>69.250000</td>\n",
       "      <td>0.439738</td>\n",
       "      <td>9</td>\n",
       "    </tr>\n",
       "    <tr>\n",
       "      <th>12936</th>\n",
       "      <td>2338</td>\n",
       "      <td>2023-09-01</td>\n",
       "      <td>52</td>\n",
       "      <td>149.942308</td>\n",
       "      <td>1.726458</td>\n",
       "      <td>16</td>\n",
       "    </tr>\n",
       "    <tr>\n",
       "      <th>6849</th>\n",
       "      <td>1380</td>\n",
       "      <td>2023-10-22</td>\n",
       "      <td>19</td>\n",
       "      <td>83.631579</td>\n",
       "      <td>0.429440</td>\n",
       "      <td>9</td>\n",
       "    </tr>\n",
       "  </tbody>\n",
       "</table>\n",
       "</div>"
      ],
      "text/plain": [
       "       courier_id accept_date  task_count  avg_delivery_duration_min  \\\n",
       "14357        2512  2023-10-25          41                 254.048780   \n",
       "18012        3123  2023-09-17          22                  73.136364   \n",
       "17367        3031  2023-06-13          12                  69.250000   \n",
       "12936        2338  2023-09-01          52                 149.942308   \n",
       "6849         1380  2023-10-22          19                  83.631579   \n",
       "\n",
       "       avg_distance_km  delivery_hour_mode  \n",
       "14357         2.889551                   9  \n",
       "18012         2.060204                   8  \n",
       "17367         0.439738                   9  \n",
       "12936         1.726458                  16  \n",
       "6849          0.429440                   9  "
      ]
     },
     "execution_count": 25,
     "metadata": {},
     "output_type": "execute_result"
    }
   ],
   "source": [
    "# Create Daily Aggregations per Courier\n",
    "daily_agg = (\n",
    "    df_filtered.groupby([\"courier_id\", \"accept_date\"])\n",
    "    .agg(\n",
    "        task_count=(\"order_id\", \"nunique\"),  # Number of tasks per day\n",
    "        avg_delivery_duration_min=(\"delivery_duration_minutes\", \"mean\"),\n",
    "        avg_distance_km=(\"distance_km\", \"mean\"),\n",
    "        delivery_hour_mode=(\n",
    "            \"accept_hour\",\n",
    "            lambda x: x.mode()[0],\n",
    "        ),  # Most frequent hour that day\n",
    "    )\n",
    "    .reset_index()\n",
    ")\n",
    "daily_agg.sample(5)"
   ]
  },
  {
   "cell_type": "code",
   "execution_count": 27,
   "id": "aad88191",
   "metadata": {},
   "outputs": [
    {
     "name": "stdout",
     "output_type": "stream",
     "text": [
      "High Load = 25.0\n"
     ]
    }
   ],
   "source": [
    "# Create 'high_load' Flag \n",
    "# Define high_load as days with task_count > median daily tasks across all couriers\n",
    "median_daily_tasks = daily_agg[\"task_count\"].median()\n",
    "daily_agg[\"high_load\"] = (daily_agg[\"task_count\"] > median_daily_tasks).astype(int)\n",
    "print(f'High Load = {median_daily_tasks}')"
   ]
  },
  {
   "cell_type": "code",
   "execution_count": 29,
   "id": "02af384c",
   "metadata": {},
   "outputs": [
    {
     "data": {
      "application/vnd.microsoft.datawrangler.viewer.v0+json": {
       "columns": [
        {
         "name": "index",
         "rawType": "int64",
         "type": "integer"
        },
        {
         "name": "courier_id",
         "rawType": "int64",
         "type": "integer"
        },
        {
         "name": "accept_date",
         "rawType": "object",
         "type": "unknown"
        },
        {
         "name": "task_count",
         "rawType": "int64",
         "type": "integer"
        },
        {
         "name": "avg_delivery_duration_min",
         "rawType": "float64",
         "type": "float"
        },
        {
         "name": "avg_distance_km",
         "rawType": "float64",
         "type": "float"
        },
        {
         "name": "delivery_hour_mode",
         "rawType": "int32",
         "type": "integer"
        },
        {
         "name": "high_load",
         "rawType": "int64",
         "type": "integer"
        },
        {
         "name": "hour_bin",
         "rawType": "category",
         "type": "unknown"
        }
       ],
       "conversionMethod": "pd.DataFrame",
       "ref": "ab1efd21-85c6-4de6-b782-a946f5f65e68",
       "rows": [
        [
         "4512",
         "681",
         "2023-06-12",
         "12",
         "84.25",
         "0.8862736016331044",
         "20",
         "0",
         "Evening"
        ],
        [
         "7214",
         "1460",
         "2023-05-05",
         "5",
         "164.2",
         "4.637248604821691",
         "7",
         "0",
         "Morning"
        ],
        [
         "3842",
         "601",
         "2023-10-10",
         "34",
         "102.32352941176471",
         "1.2585751577331816",
         "9",
         "1",
         "Morning"
        ],
        [
         "18616",
         "3216",
         "2023-08-01",
         "26",
         "92.3076923076923",
         "2.7214818063779367",
         "16",
         "1",
         "Afternoon"
        ],
        [
         "12885",
         "2331",
         "2023-08-11",
         "1",
         "147.0",
         "2.9674081927791582",
         "17",
         "0",
         "Afternoon"
        ]
       ],
       "shape": {
        "columns": 8,
        "rows": 5
       }
      },
      "text/html": [
       "<div>\n",
       "<style scoped>\n",
       "    .dataframe tbody tr th:only-of-type {\n",
       "        vertical-align: middle;\n",
       "    }\n",
       "\n",
       "    .dataframe tbody tr th {\n",
       "        vertical-align: top;\n",
       "    }\n",
       "\n",
       "    .dataframe thead th {\n",
       "        text-align: right;\n",
       "    }\n",
       "</style>\n",
       "<table border=\"1\" class=\"dataframe\">\n",
       "  <thead>\n",
       "    <tr style=\"text-align: right;\">\n",
       "      <th></th>\n",
       "      <th>courier_id</th>\n",
       "      <th>accept_date</th>\n",
       "      <th>task_count</th>\n",
       "      <th>avg_delivery_duration_min</th>\n",
       "      <th>avg_distance_km</th>\n",
       "      <th>delivery_hour_mode</th>\n",
       "      <th>high_load</th>\n",
       "      <th>hour_bin</th>\n",
       "    </tr>\n",
       "  </thead>\n",
       "  <tbody>\n",
       "    <tr>\n",
       "      <th>4512</th>\n",
       "      <td>681</td>\n",
       "      <td>2023-06-12</td>\n",
       "      <td>12</td>\n",
       "      <td>84.250000</td>\n",
       "      <td>0.886274</td>\n",
       "      <td>20</td>\n",
       "      <td>0</td>\n",
       "      <td>Evening</td>\n",
       "    </tr>\n",
       "    <tr>\n",
       "      <th>7214</th>\n",
       "      <td>1460</td>\n",
       "      <td>2023-05-05</td>\n",
       "      <td>5</td>\n",
       "      <td>164.200000</td>\n",
       "      <td>4.637249</td>\n",
       "      <td>7</td>\n",
       "      <td>0</td>\n",
       "      <td>Morning</td>\n",
       "    </tr>\n",
       "    <tr>\n",
       "      <th>3842</th>\n",
       "      <td>601</td>\n",
       "      <td>2023-10-10</td>\n",
       "      <td>34</td>\n",
       "      <td>102.323529</td>\n",
       "      <td>1.258575</td>\n",
       "      <td>9</td>\n",
       "      <td>1</td>\n",
       "      <td>Morning</td>\n",
       "    </tr>\n",
       "    <tr>\n",
       "      <th>18616</th>\n",
       "      <td>3216</td>\n",
       "      <td>2023-08-01</td>\n",
       "      <td>26</td>\n",
       "      <td>92.307692</td>\n",
       "      <td>2.721482</td>\n",
       "      <td>16</td>\n",
       "      <td>1</td>\n",
       "      <td>Afternoon</td>\n",
       "    </tr>\n",
       "    <tr>\n",
       "      <th>12885</th>\n",
       "      <td>2331</td>\n",
       "      <td>2023-08-11</td>\n",
       "      <td>1</td>\n",
       "      <td>147.000000</td>\n",
       "      <td>2.967408</td>\n",
       "      <td>17</td>\n",
       "      <td>0</td>\n",
       "      <td>Afternoon</td>\n",
       "    </tr>\n",
       "  </tbody>\n",
       "</table>\n",
       "</div>"
      ],
      "text/plain": [
       "       courier_id accept_date  task_count  avg_delivery_duration_min  \\\n",
       "4512          681  2023-06-12          12                  84.250000   \n",
       "7214         1460  2023-05-05           5                 164.200000   \n",
       "3842          601  2023-10-10          34                 102.323529   \n",
       "18616        3216  2023-08-01          26                  92.307692   \n",
       "12885        2331  2023-08-11           1                 147.000000   \n",
       "\n",
       "       avg_distance_km  delivery_hour_mode  high_load   hour_bin  \n",
       "4512          0.886274                  20          0    Evening  \n",
       "7214          4.637249                   7          0    Morning  \n",
       "3842          1.258575                   9          1    Morning  \n",
       "18616         2.721482                  16          1  Afternoon  \n",
       "12885         2.967408                  17          0  Afternoon  "
      ]
     },
     "execution_count": 29,
     "metadata": {},
     "output_type": "execute_result"
    }
   ],
   "source": [
    "# categorize the times\n",
    "daily_agg[\"hour_bin\"] = pd.cut(\n",
    "    daily_agg[\"delivery_hour_mode\"],\n",
    "    bins=[0, 6, 12, 18, 24],\n",
    "    labels=[\"Night\", \"Morning\", \"Afternoon\", \"Evening\"],\n",
    ")\n",
    "daily_agg.sample(5)"
   ]
  },
  {
   "cell_type": "code",
   "execution_count": 30,
   "id": "4b741287",
   "metadata": {},
   "outputs": [
    {
     "data": {
      "application/vnd.microsoft.datawrangler.viewer.v0+json": {
       "columns": [
        {
         "name": "index",
         "rawType": "int64",
         "type": "integer"
        },
        {
         "name": "courier_id",
         "rawType": "int64",
         "type": "integer"
        },
        {
         "name": "accept_date",
         "rawType": "object",
         "type": "unknown"
        },
        {
         "name": "task_count",
         "rawType": "int64",
         "type": "integer"
        },
        {
         "name": "avg_delivery_duration_min",
         "rawType": "float64",
         "type": "float"
        },
        {
         "name": "avg_distance_km",
         "rawType": "float64",
         "type": "float"
        },
        {
         "name": "delivery_hour_mode",
         "rawType": "int32",
         "type": "integer"
        },
        {
         "name": "high_load",
         "rawType": "int64",
         "type": "integer"
        },
        {
         "name": "hour_bin",
         "rawType": "category",
         "type": "unknown"
        },
        {
         "name": "log_duration",
         "rawType": "float64",
         "type": "float"
        }
       ],
       "conversionMethod": "pd.DataFrame",
       "ref": "59eadb6c-e20c-43ad-a50c-c489e51efb62",
       "rows": [
        [
         "6800",
         "1376",
         "2023-09-11",
         "25",
         "262.0",
         "7.4138343772467215",
         "11",
         "0",
         "Morning",
         "5.568344503761097"
        ],
        [
         "12081",
         "2172",
         "2023-06-12",
         "25",
         "76.56",
         "0.5452032533288762",
         "15",
         "0",
         "Afternoon",
         "4.338074747144699"
        ],
        [
         "3503",
         "541",
         "2023-06-03",
         "25",
         "61.2",
         "2.1379188652726753",
         "10",
         "0",
         "Morning",
         "4.11414718951828"
        ],
        [
         "25066",
         "4408",
         "2023-05-08",
         "3",
         "34.666666666666664",
         "1.385079572471095",
         "9",
         "0",
         "Morning",
         "3.545778610473263"
        ],
        [
         "1030",
         "225",
         "2023-09-27",
         "40",
         "51.85",
         "1.6906360005641112",
         "12",
         "1",
         "Morning",
         "3.948354934675536"
        ]
       ],
       "shape": {
        "columns": 9,
        "rows": 5
       }
      },
      "text/html": [
       "<div>\n",
       "<style scoped>\n",
       "    .dataframe tbody tr th:only-of-type {\n",
       "        vertical-align: middle;\n",
       "    }\n",
       "\n",
       "    .dataframe tbody tr th {\n",
       "        vertical-align: top;\n",
       "    }\n",
       "\n",
       "    .dataframe thead th {\n",
       "        text-align: right;\n",
       "    }\n",
       "</style>\n",
       "<table border=\"1\" class=\"dataframe\">\n",
       "  <thead>\n",
       "    <tr style=\"text-align: right;\">\n",
       "      <th></th>\n",
       "      <th>courier_id</th>\n",
       "      <th>accept_date</th>\n",
       "      <th>task_count</th>\n",
       "      <th>avg_delivery_duration_min</th>\n",
       "      <th>avg_distance_km</th>\n",
       "      <th>delivery_hour_mode</th>\n",
       "      <th>high_load</th>\n",
       "      <th>hour_bin</th>\n",
       "      <th>log_duration</th>\n",
       "    </tr>\n",
       "  </thead>\n",
       "  <tbody>\n",
       "    <tr>\n",
       "      <th>6800</th>\n",
       "      <td>1376</td>\n",
       "      <td>2023-09-11</td>\n",
       "      <td>25</td>\n",
       "      <td>262.000000</td>\n",
       "      <td>7.413834</td>\n",
       "      <td>11</td>\n",
       "      <td>0</td>\n",
       "      <td>Morning</td>\n",
       "      <td>5.568345</td>\n",
       "    </tr>\n",
       "    <tr>\n",
       "      <th>12081</th>\n",
       "      <td>2172</td>\n",
       "      <td>2023-06-12</td>\n",
       "      <td>25</td>\n",
       "      <td>76.560000</td>\n",
       "      <td>0.545203</td>\n",
       "      <td>15</td>\n",
       "      <td>0</td>\n",
       "      <td>Afternoon</td>\n",
       "      <td>4.338075</td>\n",
       "    </tr>\n",
       "    <tr>\n",
       "      <th>3503</th>\n",
       "      <td>541</td>\n",
       "      <td>2023-06-03</td>\n",
       "      <td>25</td>\n",
       "      <td>61.200000</td>\n",
       "      <td>2.137919</td>\n",
       "      <td>10</td>\n",
       "      <td>0</td>\n",
       "      <td>Morning</td>\n",
       "      <td>4.114147</td>\n",
       "    </tr>\n",
       "    <tr>\n",
       "      <th>25066</th>\n",
       "      <td>4408</td>\n",
       "      <td>2023-05-08</td>\n",
       "      <td>3</td>\n",
       "      <td>34.666667</td>\n",
       "      <td>1.385080</td>\n",
       "      <td>9</td>\n",
       "      <td>0</td>\n",
       "      <td>Morning</td>\n",
       "      <td>3.545779</td>\n",
       "    </tr>\n",
       "    <tr>\n",
       "      <th>1030</th>\n",
       "      <td>225</td>\n",
       "      <td>2023-09-27</td>\n",
       "      <td>40</td>\n",
       "      <td>51.850000</td>\n",
       "      <td>1.690636</td>\n",
       "      <td>12</td>\n",
       "      <td>1</td>\n",
       "      <td>Morning</td>\n",
       "      <td>3.948355</td>\n",
       "    </tr>\n",
       "  </tbody>\n",
       "</table>\n",
       "</div>"
      ],
      "text/plain": [
       "       courier_id accept_date  task_count  avg_delivery_duration_min  \\\n",
       "6800         1376  2023-09-11          25                 262.000000   \n",
       "12081        2172  2023-06-12          25                  76.560000   \n",
       "3503          541  2023-06-03          25                  61.200000   \n",
       "25066        4408  2023-05-08           3                  34.666667   \n",
       "1030          225  2023-09-27          40                  51.850000   \n",
       "\n",
       "       avg_distance_km  delivery_hour_mode  high_load   hour_bin  log_duration  \n",
       "6800          7.413834                  11          0    Morning      5.568345  \n",
       "12081         0.545203                  15          0  Afternoon      4.338075  \n",
       "3503          2.137919                  10          0    Morning      4.114147  \n",
       "25066         1.385080                   9          0    Morning      3.545779  \n",
       "1030          1.690636                  12          1    Morning      3.948355  "
      ]
     },
     "execution_count": 30,
     "metadata": {},
     "output_type": "execute_result"
    }
   ],
   "source": [
    "# transform delivery duration to log \n",
    "# replace zeros with a small value (0.001)\n",
    "daily_agg[\"log_duration\"] = np.log(\n",
    "    daily_agg[\"avg_delivery_duration_min\"].replace(0, 0.001)\n",
    ")\n",
    "# remove outliers\n",
    "lower = daily_agg[\"log_duration\"].quantile(0.01)\n",
    "upper = daily_agg[\"log_duration\"].quantile(0.99)\n",
    "daily_agg[\"log_duration\"] = daily_agg[\"log_duration\"].clip(lower, upper)\n",
    "# check dataset\n",
    "daily_agg.sample(5)"
   ]
  },
  {
   "cell_type": "code",
   "execution_count": 31,
   "id": "e64aed25",
   "metadata": {},
   "outputs": [
    {
     "name": "stdout",
     "output_type": "stream",
     "text": [
      "                            OLS Regression Results                            \n",
      "==============================================================================\n",
      "Dep. Variable:           log_duration   R-squared:                       0.089\n",
      "Model:                            OLS   Adj. R-squared:                  0.089\n",
      "Method:                 Least Squares   F-statistic:                     361.5\n",
      "Date:                Tue, 22 Apr 2025   Prob (F-statistic):               0.00\n",
      "Time:                        21:57:49   Log-Likelihood:                -23913.\n",
      "No. Observations:               27498   AIC:                         4.784e+04\n",
      "Df Residuals:                   27490   BIC:                         4.791e+04\n",
      "Df Model:                           7                                         \n",
      "Covariance Type:                  HC3                                         \n",
      "==============================================================================================\n",
      "                                 coef    std err          z      P>|z|      [0.025      0.975]\n",
      "----------------------------------------------------------------------------------------------\n",
      "Intercept                      5.4240      0.138     39.324      0.000       5.154       5.694\n",
      "C(hour_bin)[T.Morning]        -0.5225      0.138     -3.792      0.000      -0.793      -0.252\n",
      "C(hour_bin)[T.Afternoon]      -0.7808      0.138     -5.664      0.000      -1.051      -0.511\n",
      "C(hour_bin)[T.Evening]        -1.0500      0.139     -7.542      0.000      -1.323      -0.777\n",
      "task_count                    -0.0190      0.001    -19.677      0.000      -0.021      -0.017\n",
      "np.power(task_count, 2)        0.0003   1.62e-05     15.650      0.000       0.000       0.000\n",
      "avg_distance_km                0.0007      0.001      0.849      0.396      -0.001       0.002\n",
      "task_count:avg_distance_km  4.127e-05    2.9e-05      1.423      0.155   -1.56e-05    9.81e-05\n",
      "==============================================================================\n",
      "Omnibus:                      105.238   Durbin-Watson:                   0.771\n",
      "Prob(Omnibus):                  0.000   Jarque-Bera (JB):              128.560\n",
      "Skew:                          -0.079   Prob(JB):                     1.21e-28\n",
      "Kurtosis:                       3.296   Cond. No.                     9.44e+04\n",
      "==============================================================================\n",
      "\n",
      "Notes:\n",
      "[1] Standard Errors are heteroscedasticity robust (HC3)\n",
      "[2] The condition number is large, 9.44e+04. This might indicate that there are\n",
      "strong multicollinearity or other numerical problems.\n"
     ]
    }
   ],
   "source": [
    "# Run Regression\n",
    "model = smf.ols(\n",
    "    formula=\"log_duration ~ task_count + np.power(task_count, 2) + avg_distance_km + task_count * avg_distance_km + C(hour_bin)\",\n",
    "    data=daily_agg,\n",
    ").fit(cov_type=\"HC3\")\n",
    "\n",
    "print(model.summary())"
   ]
  },
  {
   "cell_type": "code",
   "execution_count": 32,
   "id": "6da09668",
   "metadata": {},
   "outputs": [
    {
     "name": "stdout",
     "output_type": "stream",
     "text": [
      "        VIF          feature\n",
      "0  4.375253            const\n",
      "1  3.570947       task_count\n",
      "2  3.560002        high_load\n",
      "3  8.703068  avg_distance_km\n",
      "4  8.733480      interaction\n"
     ]
    },
    {
     "name": "stderr",
     "output_type": "stream",
     "text": [
      "/var/folders/cv/pb7bdsd97cq7qt_b65khbfvr0000gn/T/ipykernel_8325/3646984832.py:6: SettingWithCopyWarning: \n",
      "A value is trying to be set on a copy of a slice from a DataFrame.\n",
      "Try using .loc[row_indexer,col_indexer] = value instead\n",
      "\n",
      "See the caveats in the documentation: https://pandas.pydata.org/pandas-docs/stable/user_guide/indexing.html#returning-a-view-versus-a-copy\n",
      "  X[\"interaction\"] = X[\"task_count\"] * X[\"avg_distance_km\"]  # Add interaction term\n"
     ]
    }
   ],
   "source": [
    "# --- Diagnostic Checks ---\n",
    "# Check for multicollinearity\n",
    "from statsmodels.stats.outliers_influence import variance_inflation_factor\n",
    "\n",
    "X = daily_agg[[\"task_count\", \"high_load\", \"avg_distance_km\"]]\n",
    "X[\"interaction\"] = X[\"task_count\"] * X[\"avg_distance_km\"]  # Add interaction term\n",
    "X = sm.add_constant(X)\n",
    "print(\n",
    "    pd.DataFrame(\n",
    "        {\n",
    "            \"VIF\": [variance_inflation_factor(X.values, i) for i in range(X.shape[1])],\n",
    "            \"feature\": X.columns,\n",
    "        }\n",
    "    )\n",
    ")"
   ]
  },
  {
   "cell_type": "code",
   "execution_count": 33,
   "id": "3df9e88b",
   "metadata": {},
   "outputs": [
    {
     "data": {
      "image/png": "[encoded data removed]",
      "text/plain": [
       "<Figure size 640x480 with 1 Axes>"
      ]
     },
     "metadata": {},
     "output_type": "display_data"
    }
   ],
   "source": [
    "# Check residuals\n",
    "plt.scatter(model.fittedvalues, model.resid)\n",
    "plt.xlabel(\"Fitted Values\")\n",
    "plt.ylabel(\"Residuals\")\n",
    "plt.title(\"Residual Plot\")\n",
    "plt.show()\n"
   ]
  },
  {
   "cell_type": "code",
   "execution_count": 34,
   "id": "a05d36b8",
   "metadata": {},
   "outputs": [
    {
     "data": {
      "image/png": "[encoded data removed]",
      "text/plain": [
       "<Figure size 640x480 with 1 Axes>"
      ]
     },
     "metadata": {},
     "output_type": "display_data"
    }
   ],
   "source": [
    "# qq plot\n",
    "qqplot(model.resid, line=\"s\")\n",
    "plt.show()"
   ]
  },
  {
   "cell_type": "code",
   "execution_count": 35,
   "id": "a899a936",
   "metadata": {},
   "outputs": [
    {
     "name": "stdout",
     "output_type": "stream",
     "text": [
      "P-value: 0.0\n"
     ]
    }
   ],
   "source": [
    "# Breusch-Pagan Test for heteroscedasticity\n",
    "bp_test = het_breuschpagan(model.resid, model.model.exog)\n",
    "print(\"P-value:\", bp_test[1])  # <0.05 confirms heteroscedasticity"
   ]
  }
 ],
 "metadata": {
  "kernelspec": {
   "display_name": "base",
   "language": "python",
   "name": "python3"
  },
  "language_info": {
   "codemirror_mode": {
    "name": "ipython",
    "version": 3
   },
   "file_extension": ".py",
   "mimetype": "text/x-python",
   "name": "python",
   "nbconvert_exporter": "python",
   "pygments_lexer": "ipython3",
   "version": "3.12.7"
  }
 },
 "nbformat": 4,
 "nbformat_minor": 5
}
