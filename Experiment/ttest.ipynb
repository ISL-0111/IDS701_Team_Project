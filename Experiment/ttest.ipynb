{
 "cells": [
  {
   "cell_type": "markdown",
   "metadata": {},
   "source": [
    "See Yirang Liu for questions"
   ]
  },
  {
   "cell_type": "code",
   "execution_count": 1,
   "metadata": {},
   "outputs": [],
   "source": [
    "# load packages\n",
    "import pandas as pd\n",
    "import numpy as np\n",
    "from scipy.stats import ttest_ind\n",
    "import matplotlib.pyplot as plt\n",
    "import seaborn as sns"
   ]
  },
  {
   "cell_type": "code",
   "execution_count": 2,
   "metadata": {},
   "outputs": [
    {
     "data": {
      "application/vnd.microsoft.datawrangler.viewer.v0+json": {
       "columns": [
        {
         "name": "index",
         "rawType": "int64",
         "type": "integer"
        },
        {
         "name": "courier_id",
         "rawType": "int64",
         "type": "integer"
        },
        {
         "name": "accept_date",
         "rawType": "object",
         "type": "string"
        },
        {
         "name": "region_id",
         "rawType": "int64",
         "type": "integer"
        },
        {
         "name": "task_count",
         "rawType": "int64",
         "type": "integer"
        },
        {
         "name": "avg_delivery_duration_min",
         "rawType": "float64",
         "type": "float"
        },
        {
         "name": "avg_distance_km",
         "rawType": "float64",
         "type": "float"
        },
        {
         "name": "delivery_hour_mode",
         "rawType": "int64",
         "type": "integer"
        },
        {
         "name": "high_load",
         "rawType": "int64",
         "type": "integer"
        },
        {
         "name": "task_count_c",
         "rawType": "int64",
         "type": "integer"
        },
        {
         "name": "hour_bin",
         "rawType": "object",
         "type": "string"
        },
        {
         "name": "log_duration",
         "rawType": "float64",
         "type": "float"
        }
       ],
       "conversionMethod": "pd.DataFrame",
       "ref": "03e056df-c7a9-48db-b240-77bd36c8ab0f",
       "rows": [
        [
         "7859",
         "1540",
         "2023-06-30",
         "77",
         "9",
         "133.88888888888889",
         "2.682062797952633",
         "9",
         "0",
         "-26",
         "Morning",
         "4.897010268588536"
        ],
        [
         "16389",
         "2812",
         "2023-09-30",
         "71",
         "26",
         "95.0",
         "0.816478340399021",
         "11",
         "0",
         "-9",
         "Morning",
         "4.553876891600541"
        ]
       ],
       "shape": {
        "columns": 11,
        "rows": 2
       }
      },
      "text/html": [
       "<div>\n",
       "<style scoped>\n",
       "    .dataframe tbody tr th:only-of-type {\n",
       "        vertical-align: middle;\n",
       "    }\n",
       "\n",
       "    .dataframe tbody tr th {\n",
       "        vertical-align: top;\n",
       "    }\n",
       "\n",
       "    .dataframe thead th {\n",
       "        text-align: right;\n",
       "    }\n",
       "</style>\n",
       "<table border=\"1\" class=\"dataframe\">\n",
       "  <thead>\n",
       "    <tr style=\"text-align: right;\">\n",
       "      <th></th>\n",
       "      <th>courier_id</th>\n",
       "      <th>accept_date</th>\n",
       "      <th>region_id</th>\n",
       "      <th>task_count</th>\n",
       "      <th>avg_delivery_duration_min</th>\n",
       "      <th>avg_distance_km</th>\n",
       "      <th>delivery_hour_mode</th>\n",
       "      <th>high_load</th>\n",
       "      <th>task_count_c</th>\n",
       "      <th>hour_bin</th>\n",
       "      <th>log_duration</th>\n",
       "    </tr>\n",
       "  </thead>\n",
       "  <tbody>\n",
       "    <tr>\n",
       "      <th>7859</th>\n",
       "      <td>1540</td>\n",
       "      <td>2023-06-30</td>\n",
       "      <td>77</td>\n",
       "      <td>9</td>\n",
       "      <td>133.888889</td>\n",
       "      <td>2.682063</td>\n",
       "      <td>9</td>\n",
       "      <td>0</td>\n",
       "      <td>-26</td>\n",
       "      <td>Morning</td>\n",
       "      <td>4.897010</td>\n",
       "    </tr>\n",
       "    <tr>\n",
       "      <th>16389</th>\n",
       "      <td>2812</td>\n",
       "      <td>2023-09-30</td>\n",
       "      <td>71</td>\n",
       "      <td>26</td>\n",
       "      <td>95.000000</td>\n",
       "      <td>0.816478</td>\n",
       "      <td>11</td>\n",
       "      <td>0</td>\n",
       "      <td>-9</td>\n",
       "      <td>Morning</td>\n",
       "      <td>4.553877</td>\n",
       "    </tr>\n",
       "  </tbody>\n",
       "</table>\n",
       "</div>"
      ],
      "text/plain": [
       "       courier_id accept_date  region_id  task_count  \\\n",
       "7859         1540  2023-06-30         77           9   \n",
       "16389        2812  2023-09-30         71          26   \n",
       "\n",
       "       avg_delivery_duration_min  avg_distance_km  delivery_hour_mode  \\\n",
       "7859                  133.888889         2.682063                   9   \n",
       "16389                  95.000000         0.816478                  11   \n",
       "\n",
       "       high_load  task_count_c hour_bin  log_duration  \n",
       "7859           0           -26  Morning      4.897010  \n",
       "16389          0            -9  Morning      4.553877  "
      ]
     },
     "execution_count": 2,
     "metadata": {},
     "output_type": "execute_result"
    }
   ],
   "source": [
    "# Load the data # 14 regions, threshold 35\n",
    "df = pd.read_csv('https://github.com/ISL-0111/IDS701_Team_Project/raw/refs'\n",
    "'/heads/main/Experiment_regression/daily_agg_for_ttest_14regions_log_threshold_35.csv')\n",
    "df['high_load'] = df['high_load'].astype(int)\n",
    "df.sample(2)"
   ]
  },
  {
   "cell_type": "code",
   "execution_count": 3,
   "metadata": {},
   "outputs": [],
   "source": [
    "# Define target group\n",
    "group_0 = df[df['high_load'] == 0]\n",
    "group_1 = df[df['high_load'] == 1]\n",
    "\n",
    "# Get numeric columns excluding 'high_load'\n",
    "numeric_cols = df.select_dtypes(include='number').columns.drop(\n",
    "    'high_load')"
   ]
  },
  {
   "cell_type": "code",
   "execution_count": 4,
   "metadata": {},
   "outputs": [],
   "source": [
    "# Run t-tests\n",
    "results = []\n",
    "for col in numeric_cols:\n",
    "    g0 = group_0[col].dropna()\n",
    "    g1 = group_1[col].dropna()\n",
    "    if len(g0) < 2 or len(g1) < 2:\n",
    "        continue\n",
    "    t_stat, p_val = ttest_ind(g0, g1, equal_var=False)\n",
    "    results.append((col, t_stat, p_val))"
   ]
  },
  {
   "cell_type": "code",
   "execution_count": 5,
   "metadata": {},
   "outputs": [
    {
     "data": {
      "text/plain": [
       "[('courier_id', -1.6578853916686003, 0.09736840603612971),\n",
       " ('region_id', 13.587680817385788, 9.884895102279685e-42),\n",
       " ('task_count', -239.96951804124882, 0.0),\n",
       " ('avg_delivery_duration_min', 27.578806919868033, 2.134031582427143e-164),\n",
       " ('avg_distance_km', 3.314117347460808, 0.0009208923174949954),\n",
       " ('delivery_hour_mode', -5.20722010865359, 1.9498340000833487e-07),\n",
       " ('task_count_c', -239.96951804124882, 0.0),\n",
       " ('log_duration', 16.80203868822414, 7.653521156783919e-63)]"
      ]
     },
     "execution_count": 5,
     "metadata": {},
     "output_type": "execute_result"
    }
   ],
   "source": [
    "results"
   ]
  },
  {
   "cell_type": "code",
   "execution_count": 7,
   "metadata": {},
   "outputs": [
    {
     "data": {
      "application/vnd.microsoft.datawrangler.viewer.v0+json": {
       "columns": [
        {
         "name": "index",
         "rawType": "int64",
         "type": "integer"
        },
        {
         "name": "Feature",
         "rawType": "object",
         "type": "string"
        },
        {
         "name": "T-statistic",
         "rawType": "float64",
         "type": "float"
        },
        {
         "name": "P-value",
         "rawType": "float64",
         "type": "float"
        },
        {
         "name": "-log10(P-value)",
         "rawType": "float64",
         "type": "float"
        }
       ],
       "conversionMethod": "pd.DataFrame",
       "ref": "b77d211c-7b3f-46a3-b53c-5b874d78d306",
       "rows": [
        [
         "2",
         "task_count",
         "-239.96951804124882",
         "0.0",
         "300.0"
        ],
        [
         "6",
         "task_count_c",
         "-239.96951804124882",
         "0.0",
         "300.0"
        ],
        [
         "3",
         "avg_delivery_duration_min",
         "27.578806919868033",
         "2.134031582427143e-164",
         "163.67079915755806"
        ],
        [
         "7",
         "log_duration",
         "16.80203868822414",
         "7.653521156783919e-63",
         "62.11613871293355"
        ],
        [
         "1",
         "region_id",
         "13.587680817385788",
         "9.884895102279685e-42",
         "41.005027935024344"
        ],
        [
         "5",
         "delivery_hour_mode",
         "-5.20722010865359",
         "1.9498340000833487e-07",
         "6.710002360902373"
        ],
        [
         "4",
         "avg_distance_km",
         "3.314117347460808",
         "0.0009208923174949954",
         "3.0357911500983183"
        ],
        [
         "0",
         "courier_id",
         "-1.6578853916686003",
         "0.09736840603612971",
         "1.0115819395282495"
        ]
       ],
       "shape": {
        "columns": 4,
        "rows": 8
       }
      },
      "text/html": [
       "<div>\n",
       "<style scoped>\n",
       "    .dataframe tbody tr th:only-of-type {\n",
       "        vertical-align: middle;\n",
       "    }\n",
       "\n",
       "    .dataframe tbody tr th {\n",
       "        vertical-align: top;\n",
       "    }\n",
       "\n",
       "    .dataframe thead th {\n",
       "        text-align: right;\n",
       "    }\n",
       "</style>\n",
       "<table border=\"1\" class=\"dataframe\">\n",
       "  <thead>\n",
       "    <tr style=\"text-align: right;\">\n",
       "      <th></th>\n",
       "      <th>Feature</th>\n",
       "      <th>T-statistic</th>\n",
       "      <th>P-value</th>\n",
       "      <th>-log10(P-value)</th>\n",
       "    </tr>\n",
       "  </thead>\n",
       "  <tbody>\n",
       "    <tr>\n",
       "      <th>2</th>\n",
       "      <td>task_count</td>\n",
       "      <td>-239.969518</td>\n",
       "      <td>0.000000e+00</td>\n",
       "      <td>300.000000</td>\n",
       "    </tr>\n",
       "    <tr>\n",
       "      <th>6</th>\n",
       "      <td>task_count_c</td>\n",
       "      <td>-239.969518</td>\n",
       "      <td>0.000000e+00</td>\n",
       "      <td>300.000000</td>\n",
       "    </tr>\n",
       "    <tr>\n",
       "      <th>3</th>\n",
       "      <td>avg_delivery_duration_min</td>\n",
       "      <td>27.578807</td>\n",
       "      <td>2.134032e-164</td>\n",
       "      <td>163.670799</td>\n",
       "    </tr>\n",
       "    <tr>\n",
       "      <th>7</th>\n",
       "      <td>log_duration</td>\n",
       "      <td>16.802039</td>\n",
       "      <td>7.653521e-63</td>\n",
       "      <td>62.116139</td>\n",
       "    </tr>\n",
       "    <tr>\n",
       "      <th>1</th>\n",
       "      <td>region_id</td>\n",
       "      <td>13.587681</td>\n",
       "      <td>9.884895e-42</td>\n",
       "      <td>41.005028</td>\n",
       "    </tr>\n",
       "    <tr>\n",
       "      <th>5</th>\n",
       "      <td>delivery_hour_mode</td>\n",
       "      <td>-5.207220</td>\n",
       "      <td>1.949834e-07</td>\n",
       "      <td>6.710002</td>\n",
       "    </tr>\n",
       "    <tr>\n",
       "      <th>4</th>\n",
       "      <td>avg_distance_km</td>\n",
       "      <td>3.314117</td>\n",
       "      <td>9.208923e-04</td>\n",
       "      <td>3.035791</td>\n",
       "    </tr>\n",
       "    <tr>\n",
       "      <th>0</th>\n",
       "      <td>courier_id</td>\n",
       "      <td>-1.657885</td>\n",
       "      <td>9.736841e-02</td>\n",
       "      <td>1.011582</td>\n",
       "    </tr>\n",
       "  </tbody>\n",
       "</table>\n",
       "</div>"
      ],
      "text/plain": [
       "                     Feature  T-statistic        P-value  -log10(P-value)\n",
       "2                 task_count  -239.969518   0.000000e+00       300.000000\n",
       "6               task_count_c  -239.969518   0.000000e+00       300.000000\n",
       "3  avg_delivery_duration_min    27.578807  2.134032e-164       163.670799\n",
       "7               log_duration    16.802039   7.653521e-63        62.116139\n",
       "1                  region_id    13.587681   9.884895e-42        41.005028\n",
       "5         delivery_hour_mode    -5.207220   1.949834e-07         6.710002\n",
       "4            avg_distance_km     3.314117   9.208923e-04         3.035791\n",
       "0                 courier_id    -1.657885   9.736841e-02         1.011582"
      ]
     },
     "execution_count": 7,
     "metadata": {},
     "output_type": "execute_result"
    }
   ],
   "source": [
    "# Create DataFrame\n",
    "results_df = pd.DataFrame(results, columns=[\n",
    "    'Feature', 'T-statistic', 'P-value'])\n",
    "\n",
    "# Avoid log10(0) by adding a really small number\n",
    "epsilon = 1e-300\n",
    "results_df['-log10(P-value)'] = -np.log10(results_df['P-value'] \n",
    "                                          + epsilon)\n",
    "\n",
    "# Sort for plot\n",
    "results_df.sort_values('-log10(P-value)', ascending=False, inplace=True)\n",
    "results_df"
   ]
  },
  {
   "cell_type": "code",
   "execution_count": 8,
   "metadata": {},
   "outputs": [
    {
     "data": {
      "image/png": "[encoded data removed]",
      "text/plain": [
       "<Figure size 1200x700 with 1 Axes>"
      ]
     },
     "metadata": {},
     "output_type": "display_data"
    }
   ],
   "source": [
    "# --- Plot ---\n",
    "plt.figure(figsize=(12, 7))\n",
    "ax = sns.barplot(\n",
    "    data=results_df,\n",
    "    x='-log10(P-value)',\n",
    "    y='Feature',\n",
    "    color='skyblue'\n",
    ")\n",
    "\n",
    "# Significance threshold line (p = 0.05)\n",
    "sig_threshold = -np.log10(0.05)\n",
    "plt.axvline(sig_threshold, color='red', linestyle='--', label='p = 0.05')\n",
    "\n",
    "# Annotate bars\n",
    "for i, row in results_df.iterrows():\n",
    "    if row['-log10(P-value)'] > sig_threshold:\n",
    "        ax.text(\n",
    "            row['-log10(P-value)'] + 0.05, i,\n",
    "            f\"p={row['P-value']:.3g}\",\n",
    "            va='center',\n",
    "            fontsize=9,\n",
    "            color='black'\n",
    "        )\n",
    "\n",
    "# Labels and legend\n",
    "plt.title('Feature Differences Between High-Load and Low-Load Days', \n",
    "          fontsize=14)\n",
    "plt.xlabel('-log10(p-value)\\n(Higher = More Statistically Significant)', \n",
    "           fontsize=12)\n",
    "plt.ylabel('Feature', fontsize=12)\n",
    "plt.legend(loc='lower right')\n",
    "\n",
    "# Caption\n",
    "plt.figtext(\n",
    "    0.5, -0.05,\n",
    "    \"Note: Bars right of red line are statistically significant at p < 0.05.\\n\"\n",
    "    \"Features shown compare high-load (1) vs. low-load (0) days using Welch's t-test.\",\n",
    "    wrap=True,\n",
    "    horizontalalignment='center',\n",
    "    fontsize=10\n",
    ")\n",
    "\n",
    "plt.tight_layout()\n",
    "plt.show()"
   ]
  },
  {
   "cell_type": "code",
   "execution_count": 10,
   "metadata": {},
   "outputs": [
    {
     "name": "stdout",
     "output_type": "stream",
     "text": [
      "\n",
      "Effect Size Summary:\n",
      "                     Feature  Low Load Mean  High Load Mean  % Difference  \\\n",
      "0                 task_count          17.83           42.96         140.9   \n",
      "1               task_count_c         -17.17            7.96         146.3   \n",
      "2  avg_delivery_duration_min         119.96           95.17         -20.7   \n",
      "3               log_duration           4.56            4.45          -2.6   \n",
      "4                  region_id          49.29           44.00         -10.7   \n",
      "5         delivery_hour_mode          12.11           12.37           2.1   \n",
      "6            avg_distance_km           3.35            2.51         -25.1   \n",
      "7                 courier_id        2425.97         2458.20           1.3   \n",
      "\n",
      "   P-value  \n",
      "0   0.0000  \n",
      "1   0.0000  \n",
      "2   0.0000  \n",
      "3   0.0000  \n",
      "4   0.0000  \n",
      "5   0.0000  \n",
      "6   0.0009  \n",
      "7   0.0974  \n"
     ]
    }
   ],
   "source": [
    "# --- Effect size summary ---\n",
    "summary = []\n",
    "for col in results_df['Feature']:\n",
    "    mean_0 = group_0[col].mean()\n",
    "    mean_1 = group_1[col].mean()\n",
    "    pct_diff = ((mean_1 - mean_0) / abs(mean_0)\n",
    "                ) * 100 if mean_0 != 0 else float('nan')\n",
    "    p_val = results_df.loc[results_df['Feature'] == col, 'P-value'\n",
    "                           ].values[0]\n",
    "    \n",
    "    summary.append({\n",
    "        'Feature': col,\n",
    "        'Low Load Mean': mean_0,\n",
    "        'High Load Mean': mean_1,\n",
    "        '% Difference': pct_diff,\n",
    "        'P-value': p_val\n",
    "    })\n",
    "\n",
    "summary_df = pd.DataFrame(summary)\n",
    "summary_df = summary_df.round({\n",
    "    'Low Load Mean': 2,\n",
    "    'High Load Mean': 2,\n",
    "    '% Difference': 1,\n",
    "    'P-value': 4\n",
    "})\n",
    "\n",
    "# Show the effect size summary\n",
    "print(\"\\nEffect Size Summary:\")\n",
    "print(summary_df.sort_values('P-value'))"
   ]
  },
  {
   "cell_type": "markdown",
   "metadata": {},
   "source": [
    "# Analysis Summary: Impact of High Load on Delivery Metrics (Updated)\n",
    "\n",
    "A series of Welch’s t-tests were conducted to compare courier performance metrics between high-load and low-load days. The analysis revealed that several key features significantly differ when the system experiences heavy demand.\n",
    "\n",
    "Most notably, task count per courier surged by approximately **141%** on high-load days, highlighting the substantial increase in operational pressure. Correspondingly, the variability in task counts (**task_count_c**) showed a similar dramatic rise of **146%**, indicating greater inconsistency in workload distribution across couriers. Interestingly, despite the higher task volume, the average delivery duration decreased by nearly **21%**, suggesting that couriers completed deliveries more quickly when the system was under strain.\n",
    "\n",
    "Other significant but less pronounced differences were observed in **region_id** (**−10.7%**) and **delivery_hour_mode** (**+2.1%**), implying slight shifts in where and when deliveries occurred during high-load periods. Notably, average delivery distance decreased significantly by **25.1%**, suggesting that couriers traveled slightly shorter routes, perhaps due to operational optimizations. In contrast, courier identity remained statistically unchanged, indicating that workforce composition was stable.\n",
    "\n",
    "These findings suggest that during high-load events, couriers adapt by accelerating deliveries while simultaneously optimizing travel distances, potentially through route batching, prioritization, or clustering of tasks.\n",
    "\n",
    "## Result Summary\n",
    "- **Statistically Significant Features (p < 0.05):**\n",
    "  - **task_count** (**+140.9%** on high-load days)\n",
    "  - **avg_delivery_duration_min** (**−20.7%**)\n",
    "  - **task_count_c** (**+146.3%**)\n",
    "  - **log_duration** (**−2.6%**)\n",
    "  - **region_id** (**−10.7%**)\n",
    "  - **delivery_hour_mode** (**+2.1%**)\n",
    "  - **avg_distance_km** (**−25.1%**)\n",
    "- **Not Significant:**\n",
    "  - **courier_id** (p = 0.0974)\n",
    "\n",
    "- **Strongest effects:**\n",
    "  - Task volume (**task_count**) and task variance (**task_count_c**) surged under high load.\n",
    "  - Delivery time decreased significantly (~21% faster deliveries).\n",
    "  - Travel distance (**avg_distance_km**) also shortened significantly (~25% shorter).\n",
    "\n",
    "## Interpretation\n",
    "- **Operational Pressure leads to:**\n",
    "  - Higher task volume handled per courier.\n",
    "  - Shorter delivery durations — possibly due to operational optimizations like batching or re-routing.\n",
    "  - Shorter delivery distances — suggesting improved route efficiency.\n",
    "- **Workforce composition** (courier identity) remains stable.\n",
    "- **Practical meaning:**\n",
    "  - Couriers not only deliver faster but may also optimize their routes during high-load periods.\n",
    "  - Minor regional and time-of-day shifts observed but not drastic.\n",
    "\n",
    "## Proposals for Implementation\n",
    "- **Dynamic Task Allocation:**\n",
    "  - Auto-adjust courier assignments based on predicted load to maintain quality.\n",
    "- **Incentivize Efficient Behavior:**\n",
    "  - Performance gains under pressure suggest incentives can further boost efficiency during high load.\n",
    "- **Regional Load Balancing:**\n",
    "  - Monitor slight shifts in region usage and proactively rebalance couriers when necessary.\n",
    "\n",
    "## Future Work\n",
    "- **Predictive Modeling:**\n",
    "  - Build a model to predict high-load days early using upstream signals (e.g., orders booked, customer activity).\n",
    "- **Further Segmentation:**\n",
    "  - Analyze patterns across **hour_bin** and weekday/weekend splits.\n",
    "- **Explore Causality:**\n",
    "  - Conduct controlled A/B experiments to validate whether proactive shift optimization further improves KPIs.\n",
    "- **Investigate Courier Behavior:**\n",
    "  - Study whether faster deliveries result from increased speed, better bundling, or smarter routing strategies.\n"
   ]
  },
  {
   "cell_type": "markdown",
   "metadata": {},
   "source": []
  }
 ],
 "metadata": {
  "kernelspec": {
   "display_name": "base",
   "language": "python",
   "name": "python3"
  },
  "language_info": {
   "codemirror_mode": {
    "name": "ipython",
    "version": 3
   },
   "file_extension": ".py",
   "mimetype": "text/x-python",
   "name": "python",
   "nbconvert_exporter": "python",
   "pygments_lexer": "ipython3",
   "version": "3.12.5"
  }
 },
 "nbformat": 4,
 "nbformat_minor": 2
}
